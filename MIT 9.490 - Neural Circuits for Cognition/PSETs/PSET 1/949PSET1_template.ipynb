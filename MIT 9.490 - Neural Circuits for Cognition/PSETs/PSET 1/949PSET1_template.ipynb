{
 "cells": [
  {
   "cell_type": "markdown",
   "metadata": {
    "id": "UIo289YH6xR_"
   },
   "source": [
    "#9.49/9.490 Neural Circuits for Cognition\n",
    "\n",
    "**PSET 1** - \n",
    "\n",
    "**Due September 27, 2022 by midnight** \n",
    "\n",
    "\n",
    "---\n",
    "\n",
    "**NAME:**\n",
    "\n",
    "---\n",
    "**Gmail**\n",
    "\n",
    "\n",
    "----\n",
    "\n",
    "Paste the link to your Colab here (make sure it is shared with rebeia@mit.edu):\n",
    "\n",
    "*\n",
    "\n",
    "\n",
    "\n",
    "\n",
    "----\n",
    "\n",
    "Please submit a pdf version of your Colab with the cells containing the **solutions** visible in the document. See the 'Modules' section on Canvas for directions on how to get a good pdf copy.\n",
    "\n"
   ]
  },
  {
   "cell_type": "markdown",
   "metadata": {
    "id": "XietQAFlZ-8q"
   },
   "source": [
    "\n",
    "\n",
    "---\n",
    "\n",
    "\n",
    "\n",
    "---\n",
    "\n",
    "\n",
    "\n",
    "---\n",
    "\n"
   ]
  },
  {
   "cell_type": "markdown",
   "metadata": {
    "id": "gGvqBvj-7IVq"
   },
   "source": [
    "\n",
    "\n",
    "---\n",
    "\n",
    "\n",
    "# Problem 1: f-I curve for the leaky (LIF) integrate-and-fire neuron  (40 points)\n",
    "\n",
    "A highly simplified description of neuron dynamics is given by the Leaky Integrate-and-Fire (LIF) model. The *subthreshold* neural voltage is given by:  \n",
    "\n",
    "$$c_m \\frac{d V}{dt} = - g_L (V- E_L)  + I_e \\tag{1.1}$$\n",
    "\n",
    "\n",
    "where $c_m$ is the membrane capacitance per unit area, $\n",
    "g_L$ is a fixed (leak) conductance per unit area that maintains the cell at a resting potential $E_L$ in the absence of inputs, and $I_e$ is an injected current per unit area.\n",
    "\n",
    "This equation is augmented by a threshold condition: when $V$ reaches a threshold $V_{\\theta}$, the voltage is immediately reset to \n",
    "$V_{reset}<V_{\\theta}$. At that point, the neuron is considered to have spiked.\n",
    "\n",
    "\n",
    "---\n",
    "\n"
   ]
  },
  {
   "cell_type": "markdown",
   "metadata": {
    "id": "qFdAxKTk8eH7"
   },
   "source": [
    "\n",
    "\n",
    "---\n",
    "\n",
    "\n",
    "##1.1\n",
    "\n",
    "[10 points, analytical]\n",
    "\n",
    " Derive analytically the critical current ($I_{e}^*$) below which the neuron will never fire and above which it will as a function of the parameters $g_L, E_L$. Explain in words the dependence of $I_{e}^*$ on $g_L$, i.e.,  why does it vary the way it does?\n",
    "\n",
    "\n",
    "\n",
    "---\n",
    "\n",
    "\n",
    "Hint: What must be true of dV/dt to ensure that the neuron will reach its threshold? When does the neuron membrane potential becomes maximum?\n",
    "\n",
    "\n",
    "\n",
    "---\n",
    "\n",
    "\n"
   ]
  },
  {
   "cell_type": "markdown",
   "metadata": {
    "id": "TB_ry86G8vcQ"
   },
   "source": [
    "\n",
    "\n",
    "---\n",
    "\n",
    "\n",
    "ANSWER:\n",
    "\n",
    "My answer is... \n",
    "\n",
    "\n",
    "\n",
    "\n",
    "\n",
    "---\n",
    "\n",
    "\n"
   ]
  },
  {
   "cell_type": "markdown",
   "metadata": {
    "id": "4Ae9tYfX8w-D"
   },
   "source": [
    "\n",
    "\n",
    "---\n",
    "\n",
    "\n",
    "##1.2\n",
    "\n",
    "[5 points, analytical] \n",
    "\n",
    "1.2.1 Derive analytically the the f-I curve of the neuron: that is, derive the relationship between $I_{e}$ and the firing rate $f$ of the LIF neuron. \n",
    "\n",
    ".\n",
    "\n",
    "\n",
    "---\n",
    "\n",
    "\n",
    "\n",
    "Hint: Solve for $V(t)$ at a constant $I_{e}$ and solve for how long it takes to go from $V=V_{reset}$ to $V_{\\theta}$. Do this analytically (not numerically) using techniques from differential equations such as finding a change of variables or appropriate integrating factor.\n",
    "\n",
    "\n",
    "\n",
    "---\n",
    "\n",
    "\n",
    "\n",
    "\n"
   ]
  },
  {
   "cell_type": "markdown",
   "metadata": {
    "id": "RtATaBc3Sg_B"
   },
   "source": [
    "\n",
    "\n",
    "---\n",
    "\n",
    "\n",
    "ANSWER:\n",
    "\n",
    "\n",
    ".\n",
    "\n",
    "\n",
    "\n",
    "---\n",
    "\n",
    "\n"
   ]
  },
  {
   "cell_type": "markdown",
   "metadata": {
    "id": "dmlASD-pA8wH"
   },
   "source": [
    "\n",
    "\n",
    "---\n",
    "\n",
    "\n",
    "[5 points, numerical]\n",
    "\n",
    "1.2.2: A correct derivation in for 1.2 should yield $$ f = \\frac{1}{-\\tau \\log ( 1-\\frac{V_\\theta - V_{reset}}{E_L + I_e/g_L - V_{reset}})}\\tag{1.2}$$\n",
    "\n",
    "Plot $f$, the firing rate,  versus $I_{e}$, using parameters \n",
    "$E_L=-60$ mV, $g_L=0.1$ mS/cm$^2$, $c_m = 1$ $\\mu$F/cm$^2$, $V_{\\theta}=-50$ mV, $V_{reset}=-55$ mV.\n",
    "\n",
    "\n",
    "---\n",
    "\n"
   ]
  },
  {
   "cell_type": "code",
   "execution_count": null,
   "metadata": {
    "id": "BtSjv8AwURaj"
   },
   "outputs": [],
   "source": [
    "from numpy.core.function_base import linspace\n",
    "import numpy as np\n",
    "import matplotlib.pyplot as plt\n",
    "\n",
    "Vreset = -55      # mVolts\n",
    "Vtheta = -50\n",
    "EL = -60\n",
    "\n",
    "cm = 1.0e-06               # Farad/cm^2\n",
    "gL = 1.0e-04                # S/cm^2\n",
    "\n",
    "tau = 1000*cm/gL                # msec\n",
    "print('time constant tau (ms) = ',tau)\n",
    "\n",
    "R = 1/gL\n",
    "\n",
    "Istar = (Vtheta-EL)/R   # current in mAmp/cm^2\n",
    "\n",
    "print('critical current = ',format(Istar,'.6f'))\n",
    "\n",
    "# add your code here to generate arrays Ie and f:"
   ]
  },
  {
   "cell_type": "code",
   "execution_count": null,
   "metadata": {
    "id": "16Sk48w2UY1c"
   },
   "outputs": [],
   "source": [
    "\n",
    "def plot_1_2(Ie, f):\n",
    "  \"\"\"Plot the computed firing rate (f)\n",
    "  against the injected current (Ie).\n",
    "\n",
    "  Parameters\n",
    "  ----------\n",
    "  Ie : np.ndarray\n",
    "      Array of injected current values\n",
    "  f : np.ndarray\n",
    "      The firing rate at each injected current computed using the equation in 1.2\n",
    "  \"\"\"\n",
    "\n",
    "  fig, ax = plt.subplots()\n",
    "  ax.plot(Ie,f, label='No approx.')\n",
    "  ax.set_xlabel('Ie ($mA/cm^2$)')\n",
    "  ax.set_ylabel('f (Hz)')\n",
    "  #ax.set_ylim(0,100)                # uncomment to locate 60 Hz current needed\n",
    "  #ax.set_xlim(0,0.0025)\n",
    "  ax.legend()\n",
    "  ax.grid()\n",
    "\n",
    "plot_1_2(Ie, f)"
   ]
  },
  {
   "cell_type": "markdown",
   "metadata": {
    "id": "TLfvngTY_PBT"
   },
   "source": [
    "\n",
    "\n",
    "---\n",
    "\n",
    "\n",
    "##1.3\n",
    "\n",
    "[5 points, analytical] \n",
    "\n",
    "1.3.1 Use the expansion $\\log(1-x) \\approx - x - x^2/2$ valid for small $x$  in your expression from 1.2 to show analytically that the f-I curve is approximately linear for large values of $I_e$ (Please show your work). \n",
    "\n",
    "\n",
    "---\n",
    "\n"
   ]
  },
  {
   "cell_type": "markdown",
   "metadata": {
    "id": "T8Uflw4CSjz4"
   },
   "source": [
    "\n",
    "\n",
    "---\n",
    "\n",
    "\n",
    "ANSWER:\n",
    "\n",
    "\n",
    ".\n",
    "\n",
    "\n",
    "---\n",
    "\n",
    "\n"
   ]
  },
  {
   "cell_type": "markdown",
   "metadata": {
    "id": "m-TT2tSQVCLQ"
   },
   "source": [
    "\n",
    "\n",
    "---\n",
    "\n",
    "\n",
    "[5 points, numerical]\n",
    "\n",
    "1.3.2 Correct steps for 1.3.1 will yield the following linear equation for firing rate f in the form $f=mx+b$\n",
    "\n",
    "$$f = \\left( \\frac{1}{\\tau} \\frac{R_L}{V_\\theta - V_{reset}} \\right) I_e  + \\frac{1}{\\tau} \\bigg(\\frac{E_L - V_{\\theta}}{V_\\theta - V_{reset}} +\\frac{1}{2}\\bigg)$$\n",
    "\n",
    "\n",
    "Add this approximate linear expression for the f-I curve to your plot in 1.2. This should confirm for which values of $I_e$ the linear aproximation is a good one.\n",
    "\n",
    "\n",
    "---\n",
    "\n"
   ]
  },
  {
   "cell_type": "code",
   "execution_count": null,
   "metadata": {
    "id": "oqxEgXtHg5hE"
   },
   "outputs": [],
   "source": [
    "# add your code here to generate array fapp\n",
    "#Ie, f (both can can be carried through from 1.2)\n"
   ]
  },
  {
   "cell_type": "code",
   "execution_count": null,
   "metadata": {
    "id": "W4m0NvGQVUXF"
   },
   "outputs": [],
   "source": [
    "# plot the true expression and the approximation\n",
    "def plot_1_3(Ie, f, fapp):\n",
    "  \"\"\"Plot the computed firing rate (f) and the linear approximation (fapp) \n",
    "  against the injected current (Ie).\n",
    "\n",
    "  Parameters\n",
    "  ----------\n",
    "  Ie : np.ndarray\n",
    "      Array of injected current values\n",
    "  f : np.ndarray\n",
    "      The firing rate at each injected current computed using the equation in 1.2\n",
    "  fapp: np.ndarray\n",
    "      The firing rate computed from the linear approximation found in 1.3\n",
    "  \"\"\"\n",
    "\n",
    "  _, (firing_rate_plot, diff_plot) = plt.subplots(1, 2, figsize=(15, 4))\n",
    "  firing_rate_plot.plot(Ie,f, label='No approx.')\n",
    "  firing_rate_plot.plot(Ie,fapp,'r-', label='High $I_e$ Approximation')\n",
    "  firing_rate_plot.set_xlabel('Ie ($mA/cm^2$)')\n",
    "  firing_rate_plot.set_ylabel('f (Hz)')\n",
    "  #ax.set_ylim(0,100)                # uncomment to locate 60 Hz current needed\n",
    "  #ax.set_xlim(0,0.0025)\n",
    "\n",
    "  diff_plot.plot(Ie, f - fapp)\n",
    "  diff_plot.set_ylabel('Error')\n",
    "  diff_plot.set_xlabel('Injected Current')\n",
    "  firing_rate_plot.legend()\n",
    "  firing_rate_plot.grid()\n",
    "\n",
    "plot_1_3(Ie, f, fapp)"
   ]
  },
  {
   "cell_type": "markdown",
   "metadata": {
    "id": "ZgQKs_9PTYfD"
   },
   "source": [
    "\n",
    "\n",
    "---\n",
    "\n",
    "\n",
    "##1.4\n",
    "\n",
    "[10 points, analytical] \n",
    "\n",
    "Instead of a piecewise constant currents $I_e$, assume that the current in Eq. 1.1 is due to short pulses of dendritic currents from neighboring cells. In general, the current provided by each pulse is not enough to make the cell spike. However, if the short pulses are close enough in time, their effect may add-up and that will allow the cell to reach the voltage threshold to spike. To simplify modeling this effect, we will assume that the frequency of current pulses, $f_s$ is constant. We also assume that each current current pulse has a constant magnitude $I_s$ (less than $I_e^*$). therefore, the current source is:\n",
    "\n",
    "$$ I_e (t) = \\nu \\sum_s I_s \\delta(t-t_s),$$\n",
    "\n",
    "where $\\nu$ is a constant that chracterizes the width of the pulse, which we will take to be much smaller than $\\Delta t_s=t_{s+1} - t_s$, the time between two consecutive current pulses.\n",
    "\n",
    "We assume that $I_s = a I_e^*$, with $a << 1$. \n",
    "\n",
    ".\n",
    "\n",
    "Find the minimum $f_s$ that will allow the cell to spike, and show that in the limit of very small $\\nu$, $f_s$ is independent of the time constant $\\tau = \\frac{c_m}{g_L}$ of the cell.\n",
    "\n",
    "\n",
    "\n",
    "---\n",
    "\n",
    "\n",
    "**Hint:** \n",
    "\n",
    "1. After you sum the geometric series and solve for $t_s$, you will end up with logarithmic expression. Use the linear approximation $\\log ( 1 - x ) = - x$ valid for small $x$ to find $t_s$ as $\\nu$ approaches zero.\n",
    "\n",
    "\n",
    "2. Attached at the end of this document you will find the solutions for a similar question in 9.40 for 3 pulses. Your job is to extend this to an indefinite number of pulses, then use your knowledge of geometric series to derive an expression for $v$, solve this expression for $t_s$ and thereby $f_s$.\n",
    "\n",
    "\n",
    "---\n",
    "\n"
   ]
  },
  {
   "cell_type": "markdown",
   "metadata": {
    "id": "n_njPh2AW9Wx"
   },
   "source": [
    "\n",
    "\n",
    "---\n",
    "\n",
    "\n",
    "ANSWER:\n",
    "\n",
    "\n",
    "\n",
    "\n",
    "\n",
    "---\n",
    "\n"
   ]
  },
  {
   "cell_type": "markdown",
   "metadata": {
    "id": "VweTTou8ZvIW"
   },
   "source": [
    "\n",
    "\n",
    "---\n",
    "\n",
    "\n",
    "\n",
    "---\n",
    "\n"
   ]
  },
  {
   "cell_type": "markdown",
   "metadata": {
    "id": "rUug6xP8_Z4n"
   },
   "source": [
    "\n",
    "\n",
    "---\n",
    "\n",
    "\n",
    "#Problem 2: Numerical simulation of LIF-based models of neurons and assessment of the method-of-averaging to obtain rate-based expressions (30 points).\n",
    "\n",
    "Consider Equation 1 (and the reset condition) together with the following equation for synaptic activation:\n",
    "\n",
    "\n",
    "$$\n",
    "\\tau_s \\frac{ds}{dt} = -s + \\sum_{a} \\delta (t-t_a) \\tag{2.1},\n",
    "$$\n",
    "\n",
    "where the sum over $a$ in the synaptic equation is over all the times $t_a$ at which the neuron spikes. \n",
    "\n",
    "\n",
    "\n",
    "---\n",
    "\n"
   ]
  },
  {
   "cell_type": "markdown",
   "metadata": {
    "id": "0hlLgIoNAi-R"
   },
   "source": [
    "\n",
    "\n",
    "---\n",
    "\n",
    "\n",
    "##2.1\n",
    "\n",
    "[5 points, numerical] \n",
    "\n",
    "2.1.1: Numerically integrate Equations (1.1 and 2.1) to obtain the time-evolution of the voltage and synaptic activation of a LIF neuron, over a 0.5 second interval. \n",
    "\n",
    "(To numerically integrate: replace the derivative by a finite-time difference over an interval $\\Delta t$ according to the ``Euler method\", as we saw in class, and iterate. Use $\\Delta t = 0.1$ ms.) \n",
    "\n",
    "Use parameters from Problem 1:\n",
    "\n",
    " Initial conditions: $s(0) = 0$ and $V(0)=V_{reset}$. At $t= 500$ ms, step $I_{e}$ from 0 to a value larger than $I_e^*$ that produces spiking at approximately 60 $Hz$; hold this step until $t=1500$ ms, then return $I_{e}$ to 0. \n",
    "\n",
    "\n",
    "---\n",
    "\n"
   ]
  },
  {
   "cell_type": "markdown",
   "metadata": {
    "id": "KtRz15yHT0Hu"
   },
   "source": [
    "\n",
    "\n",
    "---\n",
    "\n",
    "\n",
    "ANSWER:\n",
    "\n",
    "Explicitly state the function value at (t+1) as a function of the value at (t) for both the LIF membrane voltage (1.1) and the synaptic activations (2.1).\n",
    "\n",
    "$v(t+1) = $\n",
    "\n",
    "$s(t+1) = $\n",
    "\n",
    "\n",
    "\n",
    "\n",
    "\n",
    "---\n",
    "\n",
    "\n"
   ]
  },
  {
   "cell_type": "markdown",
   "metadata": {
    "id": "Aj4W1w5XXsu8"
   },
   "source": [
    "\n",
    "\n",
    "---\n",
    "\n",
    "\n",
    "[5 points, numerical]\n",
    "\n",
    "2.1.2: Plot the simulated $V(t)$ and $s(t)$ versus time in $ms$, with $s(t)$ simulated under three conditions: $\\tau_s = 10$ ms, $\\tau_s=50$ ms, and $\\tau_s=100$ ms.\n",
    "\n",
    "\n",
    "\n",
    "---\n",
    "\n"
   ]
  },
  {
   "cell_type": "code",
   "execution_count": null,
   "metadata": {
    "id": "r_F5sL3_11Uh"
   },
   "outputs": [],
   "source": [
    "import numpy as np\n",
    "import matplotlib.pyplot as plt\n",
    "import math\n",
    "\n",
    "\n",
    "Vreset = -55      # mVolts\n",
    "Vtheta = -50\n",
    "EL = -60\n",
    "cm =  1.0e-06               # Farad/cm^2\n",
    "gL =  1.0e-04                # S/cm^2\n",
    "\n",
    "tau = 1000*cm/gL                # msec\n",
    "\n",
    "\n",
    "# add your code here to generate t, i, v, s_tau_10, s_tau_50, s_tau_100\n",
    "\n"
   ]
  },
  {
   "cell_type": "code",
   "execution_count": null,
   "metadata": {
    "id": "Y3qMkmK6YjO9"
   },
   "outputs": [],
   "source": [
    "def plot_2_1(t, i, v, s_tau_10, s_tau_50, s_tau_100):\n",
    "  \"\"\"Plot the computed firing rate (f) and the linear approximation (fapp) \n",
    "  against the injected current (Ie).\n",
    "\n",
    "  Parameters\n",
    "  ----------\n",
    "  t : np.ndarray\n",
    "      Array of timepoints\n",
    "  i : np.ndarray\n",
    "      The injected current at each time point\n",
    "  v : np.ndarray\n",
    "      The membrane voltage at each time point\n",
    "  s_tau_y : np.ndarray\n",
    "      The value of the downstream synaptic activation at each time point, \n",
    "      when simulated with a tau_s of \"y\"\n",
    "  \"\"\"\n",
    "  fig, axs = plt.subplots(1, 2, figsize=(15, 4))\n",
    "  (membrane_plot, synaptic_plot) = axs\n",
    "\n",
    "  membrane_plot.plot(t, 1000*i, label='Input_Current')\n",
    "  membrane_plot.plot(t, v, label='Membrane Voltage')\n",
    "  membrane_plot.title.set_text('LIF Neuron')\n",
    "  membrane_plot.set_ylabel('Membrane Potential (V)')\n",
    "  membrane_plot.set_xlabel('Time (ms)')\n",
    "  membrane_plot.legend()\n",
    "\n",
    "  synaptic_plot.plot(t, 1000*i, label='Input_Current')\n",
    "  synaptic_plot.plot(t, s_tau_10*1000, label='tau_s = 10 ms')\n",
    "  synaptic_plot.plot(t, s_tau_50*1000, label='tau_s = 50 ms')\n",
    "  synaptic_plot.plot(t, s_tau_100*1000, label='tau_s = 100 ms')\n",
    "  synaptic_plot.set_ylabel('Synaptic Activation (I)')\n",
    "  synaptic_plot.title.set_text('Downstream synapses')\n",
    "  synaptic_plot.set_xlabel('Time (sec)')\n",
    "  synaptic_plot.legend()\n",
    "  return fig, axs\n",
    "\n",
    "fig, axs = plot_2_1(t, i, v, s_tau_10, s_tau_50, s_tau_100)\n"
   ]
  },
  {
   "cell_type": "markdown",
   "metadata": {
    "id": "f6-l-Tb2T3X6"
   },
   "source": [
    "\n",
    "\n",
    "\n",
    "---\n",
    "\n",
    "\n",
    "##2.2\n",
    "\n",
    "\n",
    "\n",
    " As in class, averaging over the fast spiking variable -- specifically over one inter-spike interval -- reduces this pair of equations to a single differential equation for $s$ in terms of the firing rate $\\nu(I_{e})$ of the neuron as follows:\n",
    "$$\n",
    "\\dot{s} = -\\frac{s}{\\tau_{s}}+\\beta f(I_{inj})\n",
    "$$\n",
    "where in this case $\\beta = \\frac{1}{\\tau_s}$\n",
    "\n",
    "\n",
    "---\n",
    "\n",
    "\n",
    "\n",
    "[5 points, numerical]\n",
    "\n",
    "2.2.1 Show the rate-based equation results for $s(t)$ on top of $s(t)$ obtained from the spiking simulations in previous question.  \n",
    "\n",
    ".\n",
    "\n",
    "\n",
    "\n",
    "\n",
    "---\n",
    "\n",
    "\n",
    "[5 points, conceptual]\n",
    "\n",
    "2.2.2 For what value of $\\tau$ does the rate-based model most closely approximate the synaptic current from the spiking simulations? How might changes in the firing rate affect this approximation?\n",
    "\n",
    "\n",
    "---\n",
    "\n"
   ]
  },
  {
   "cell_type": "markdown",
   "metadata": {
    "id": "kasuVd0IUinY"
   },
   "source": [
    "\n",
    "\n",
    "---\n",
    "\n",
    "\n",
    "ANSWER:\n",
    "\n",
    ".\n",
    "\n",
    "\n",
    "\n",
    "---\n",
    "\n"
   ]
  },
  {
   "cell_type": "code",
   "execution_count": null,
   "metadata": {
    "id": "oyhNsoQi6-YS"
   },
   "outputs": [],
   "source": [
    "#Add code here to generate f_tau_10, f_tau_50, f_tau_100\n",
    "\n"
   ]
  },
  {
   "cell_type": "code",
   "execution_count": null,
   "metadata": {
    "id": "KAMGTqM5iCJb"
   },
   "outputs": [],
   "source": [
    "def plot_2_2(axs, t, f_tau_10, f_tau_50, f_tau_100):\n",
    "  \"\"\"Plot the computed firing rate (f) and the linear approximation (fapp) \n",
    "  against the injected current (Ie).\n",
    "\n",
    "  Parameters\n",
    "  ----------\n",
    "  axs : np.ndarray\n",
    "      matplotlib axs with two subplots (here generated from plot_2_1)\n",
    "  t : np.ndarray\n",
    "      Array of timepoints\n",
    "  f_tau_y : np.ndarray\n",
    "      The value of the rate based approximation of the downstream synaptic \n",
    "      input s(t) when simulated with a tau_s of \"y\"\n",
    "  \"\"\"\n",
    "\n",
    "  (membrane_plot, synaptic_plot) = axs\n",
    "  membrane_plot.title.set_text('LIF neuron from 0.4s-1s')\n",
    "  membrane_plot.set_xlim(400, 1000)\n",
    "\n",
    "  synaptic_plot.plot(t, f_tau_10, label='rate based, tau_s = 10 ms')\n",
    "  synaptic_plot.plot(t, f_tau_50, label='rate based, tau_s = 50 ms')\n",
    "  synaptic_plot.plot(t, f_tau_100, label='rate based, tau_s = 100 ms')\n",
    "  synaptic_plot.set_ylabel('Synaptic Activation (I)')\n",
    "  synaptic_plot.title.set_text('Downstream synapses from 0.4s-1s')\n",
    "  synaptic_plot.set_xlim(400, 1000)\n",
    "  synaptic_plot.set_xlabel('Time (sec)')\n",
    "  synaptic_plot.legend()\n",
    "  return fig, axs\n",
    "\n",
    "fig, axs = plot_2_1(t, i, v, s_tau_10, s_tau_50, s_tau_100)\n",
    "plot_2_2(axs, t, f_tau_10, f_tau_50, f_tau_100)"
   ]
  },
  {
   "cell_type": "markdown",
   "metadata": {
    "id": "0hCZillDSfsc"
   },
   "source": [
    "\n",
    "\n",
    "---\n",
    "\n",
    "\n",
    "##2.3\n",
    "\n",
    "[10 points, numerical] \n",
    "\n",
    "The drawback of the simple LIF model is that it \n",
    "cannot account for the variety of electrophysiological behaviors of real neurons. For this reason, we consider next an extension of the LIF model by adding non-linear terms and a feedback term from ionic currents:\n",
    "\n",
    "$$\n",
    "c_m \\frac{d V}{dt} = - g_L(V-E_L) + g_L \\nu_\\theta \\exp\\left(- \\frac{(V_\\theta - V)}{\\nu_\\theta} \\right) - s + I\n",
    "$$\n",
    "$$\n",
    "\\tau_s \\frac{d s}{dt} = - s + a (V- E_L)\n",
    "$$\n",
    "This model reduces to the LIF model in the limit of $\\nu_\\theta = 0$. The exponential term, representative of the sodium channel, diverges for high values of the membrane potential which represents the onset of a spike. This divergence is artificially removed by resetting the potential to $V_{reset}$ when it reaches values, $V_s$, typical of values attained by the potential (above the threshold) when the neuron spikes. In addition to resetting the potential to $V_{reset}$, the current is also made to jump by an amount $b$ after each spike:\n",
    "$$ s ⟼ s+ b$$\n",
    "This jump in $s$ tries to capture spike-triggered adaptation of ionic currents due, e.g., to slow deactivation of potassium channels after a spike. The coupling between $s$ and $V$ can be due to axial currents travelling to the soma.\n",
    "\n",
    "We are going to numerically analyze this sytem for two sets of parameters. In both cases a and b:\n",
    "\n",
    "  * calculate the voltage as a function of time (Numerically means use Euler)\n",
    "  * calculate the current s as a function of time (Numerically means use Euler)\n",
    "\n",
    "* find the distribution of spikes: average spiking rate, and a histogram of inter-spike intervals. Note the adaptation and variability of spike trains.\n",
    "\n",
    "\n",
    "\n",
    "---\n",
    "\n"
   ]
  },
  {
   "cell_type": "code",
   "execution_count": null,
   "metadata": {
    "id": "Y6_z_s6_WBjw"
   },
   "outputs": [],
   "source": [
    "import numpy as np\n",
    "import matplotlib.pyplot as plt\n",
    "import math\n",
    "\n",
    "# Fill in the blanks to make the following function work\n",
    "\n",
    "import numpy as np\n",
    "import matplotlib.pyplot as plt\n",
    "import math\n",
    "\n",
    "def exp_LIF(C,GL,EL,Vtheta,Vreset,nuTheta,taus, Vtop,a,b,Ie_step,dt,tot_Time,t_on,t_off):\n",
    "  \n",
    "  time = np.arange(0,tot_Time,dt)\n",
    "  N = time.size\n",
    "  Ie = np.zeros(N)\n",
    "  Ie[np.logical_and(time > t_on, time <= t_off)] = Ie_step    \n",
    "  \n",
    "  V = np.zeros(N)\n",
    "  s = np.zeros(N)\n",
    "  V[0] =  EL \n",
    "  s[0]= 0   #a*(V[0] - EL)\n",
    "\n",
    "  for n in range(0,N-1):\n",
    "    V[n+1]= ######BLANK#########\n",
    "    s[n+1] = ######BLANK#########\n",
    "    #Reset condition\n",
    "    if ######BLANK#########:\n",
    "      V[n+1] = Vreset\n",
    "      s[n+1] = s[n+1] + b\n",
    "\n",
    "  #print(V[0]*1000)\n",
    "  spikes = np.where(V == Vreset)[0]\n",
    "  print('spikes at :',spikes)\n",
    "  spikes = spikes -1\n",
    "  V[spikes] = 0.020\n",
    "\n",
    "  # spiking rate\n",
    "  sp_rate = spikes.size/I_on      # Hz\n",
    "  print('spike rate = ',sp_rate)\n",
    "\n",
    "  time_diff = 1000*dt*np.diff(spikes)    # ms\n",
    "  print('adaptation :', time_diff)\n",
    "  print('average ISI = ',np.mean(time_diff))\n",
    "  print('standard deviation ISI =',np.std(time_diff))\n",
    "  plt.hist(time_diff)\n",
    "\n",
    "  fig, ax = plt.subplots(2,1)\n",
    "  ax[0].plot(time*1000, V*1000)\n",
    "  ax[1].plot(time*1000,s*1e+09)\n",
    "  \"\"\"\n",
    "  ax[0].set_xlim(0,0.100)\n",
    "  ax[0].set_ylim(-80,25)\n",
    "  #ax[1].set_ylim(0.,0.4)\n",
    "  ax[1].set_xlim(0,0.100)\n",
    "  \"\"\"\n",
    "  plt.tight_layout()\n",
    "  plt.show()\n",
    "\n"
   ]
  },
  {
   "cell_type": "markdown",
   "metadata": {
    "id": "2M8quXFsbnih"
   },
   "source": [
    "### a.) adaptation part"
   ]
  },
  {
   "cell_type": "code",
   "execution_count": null,
   "metadata": {
    "id": "3rOgf1qYZPHq"
   },
   "outputs": [],
   "source": [
    "C= 281*1e-12                     #pF\n",
    "GL=30*1e-9                             #nS\n",
    "EL=-70.6*1e-03                        #mV\n",
    "Vtheta=-50.4*1e-03                    #mV\n",
    "Vreset = -70.59*1e-03      #-47.0*1e-03               # -48.0          #mV\n",
    "nuTheta = 2*1e-03                       #mV 2\n",
    "taus = 144*1e-03                         #40*ms\n",
    "a= 4.0*1e-09                         #nS 4\n",
    "b= 0.0805*1e-09    #0.5                          #0.08   #nA\n",
    "\n",
    "Vtop = Vtheta + 5*nuTheta\n",
    "print('Vtop  (mV) = ',Vtop*1000)\n",
    "\n",
    "\n",
    "# time parameters\n",
    "tot_Time = 0.140\n",
    "t_on = 0.020\n",
    "t_off = 0.120\n",
    "dt = 0.01*1e-03                # ms\n",
    "\n",
    "Ie_step = 1e-09    #0.8*1e-09\n",
    "\n",
    "exp_LIF(C,GL,EL,Vtheta,Vreset,nuTheta,taus, Vtop,a,b,Ie_step,dt,tot_Time,t_on,t_off)\n",
    "\n"
   ]
  },
  {
   "cell_type": "markdown",
   "metadata": {
    "id": "2e0DfUiybdcf"
   },
   "source": [
    "### b.) chaotic part"
   ]
  },
  {
   "cell_type": "code",
   "execution_count": null,
   "metadata": {
    "id": "VY7zaC1abx09"
   },
   "outputs": [],
   "source": [
    "C= 281*1e-12                     #pF\n",
    "GL=30*1e-9                             #nS\n",
    "EL=-70.6*1e-03                        #mV\n",
    "Vtheta=-50.4*1e-03                    #mV\n",
    "Vreset = -48*1e-03      #-47.0*1e-03               # -48.0          #mV\n",
    "nuTheta = 2*1e-03                       #mV 2\n",
    "taus = 40*1e-03                         #40*ms\n",
    "a= 4.0*1e-09                         #nS 4\n",
    "b= 0.080*1e-09    #0.5                          #0.08   #nA\n",
    "#Ie= 0.8*1e-09               #nA\n",
    "\n",
    "Vtop = Vtheta + 5*nuTheta\n",
    "#Vtop = 20               # mV\n",
    "\n",
    "print('Vtop  (mV) = ',Vtop*1000)\n",
    "\n",
    "\n",
    "dt = 0.01*1e-03                # ms\n",
    "tot_Time = 0.400\n",
    "t_on = 0.020     # sec\n",
    "t_off = 0.300    # sec\n",
    "time_interval = t_off - t_on    # sec\n",
    "Ie_step = 0.80*1e-09       # Amp\n",
    "\n",
    "exp_LIF(C,GL,EL,Vtheta,Vreset,nuTheta,taus, Vtop,a,b,Ie_step,dt,tot_Time,t_on,t_off)"
   ]
  },
  {
   "cell_type": "markdown",
   "metadata": {
    "id": "82EVc_5qZsVo"
   },
   "source": [
    "\n",
    "\n",
    "---\n",
    "\n",
    "\n",
    "\n",
    "---\n",
    "\n"
   ]
  },
  {
   "cell_type": "markdown",
   "metadata": {
    "id": "2IYoPH5RUlT-"
   },
   "source": [
    "\n",
    "\n",
    "---\n",
    "\n",
    "\n",
    "# Problem 3: Single neuron with two time scales (30 points)\n",
    "\n",
    "\n",
    "\n",
    "Consider a single neuron with two self-synapses, one excitatory and one inhibitory, with different characteristic time scales. The rate of the neuron is\n",
    "given by:\n",
    "\n",
    "  $$r\\ =\\ \\alpha ( s_{1} \\ -\\ s_{2} \\ ), \\ \\ \\alpha  >0 \\tag{3.1}$$\n",
    "\n",
    "\n",
    "\n",
    "and the synaptic activities:\n",
    "\n",
    "\n",
    "$$\\tau_1\\dot{s}_{1} = -s_1 + r \\tag{3.2}$$\n",
    "\n",
    "$$\\tau_2\\dot{s}_{2} = -s_2 + r \\tag{3.3}$$\n",
    "\n",
    "\n",
    "\n",
    "Here $\\displaystyle \\tau _{1} \\  >\\ 0$, $\\displaystyle \\tau _{2} \\  >\\ 0$ are the characteristic time scales.\n",
    "\n",
    "\n",
    "\n",
    "---\n",
    "\n",
    "\n"
   ]
  },
  {
   "cell_type": "markdown",
   "metadata": {
    "id": "6hWY-rBcVRCU"
   },
   "source": [
    "##3.1\n",
    "\n",
    "[5 points, analytical]\n",
    "\n",
    "Write the system dynamics in a two dimensional matrix form, $\\dot{s} = As$.\n",
    "\n",
    "Use sympy (Python package) (and/or hand calculations as necessary) to show that the eigenvalues of the matrix $A$ as a function of $\\alpha,   \\tau_1, \\tau_2$ have the form\n",
    "$$\\lambda_{1,2} = -\\frac{1}{2} \\left( \\frac{1-\\alpha}{\\tau_1} + \\frac{1+\\alpha}{\\tau_2} \\right) \\pm \\sqrt{\\frac{1}{4}\\left( \\frac{1-\\alpha}{\\tau_1} + \\frac{1+\\alpha}{\\tau_2} \\right)^2 - \\frac{\\alpha^2 + (1-\\alpha)^2}{\\tau_1 \\tau_2}}. $$\n",
    "\n"
   ]
  },
  {
   "cell_type": "markdown",
   "metadata": {
    "id": "Ub5txzHmWEO-"
   },
   "source": [
    "\n",
    "\n",
    "---\n",
    "\n",
    "\n",
    "ANSWER:\n",
    "\n",
    "\n",
    "\n",
    ".\n",
    "\n",
    "\n",
    "\n",
    "---\n",
    "\n",
    "\n"
   ]
  },
  {
   "cell_type": "markdown",
   "metadata": {
    "id": "Bdvt3kX1V56O"
   },
   "source": [
    "\n",
    "\n",
    "---\n",
    "\n",
    "\n",
    "##3.2\n",
    "\n",
    "[5 points, analytical]\n",
    "\n",
    " Analytically derive the possible fixed point(s) of the system.\n",
    "\n",
    "\n",
    "\n",
    "---\n",
    "\n",
    "\n",
    "Hint: What will $\\dot{s}$ be if the system is at a fixed point? (No dynamics at fixed points). Is $A$ singular?\n",
    "\n",
    "\n",
    "---\n",
    "\n"
   ]
  },
  {
   "cell_type": "markdown",
   "metadata": {
    "id": "IJNv4JNuWB_l"
   },
   "source": [
    "ANSWER:\n",
    "\n",
    "\n",
    "\n"
   ]
  },
  {
   "cell_type": "markdown",
   "metadata": {
    "id": "e08ucQWxXrPD"
   },
   "source": [
    "##3.3\n",
    "\n",
    "[3 points, analytical]\n",
    "\n",
    "3.3.1: For $\\alpha = 1$, what will be the nature of the dynamics (exponential decay/growth, oscillations...) in case of \n",
    "\n",
    "a. $\\tau_1 > \\tau_2$?\n",
    "\n",
    "b. $\\tau_2 > \\tau_1$?\n",
    "\n",
    "Give an intuitive explanation for the difference between these 2 cases.\n",
    "\n",
    "Hint: What do the eigenvalues tell us about the behavior of the system?\n"
   ]
  },
  {
   "cell_type": "markdown",
   "metadata": {
    "id": "nM33abu8XvO_"
   },
   "source": [
    "\n",
    "\n",
    "---\n",
    "\n",
    "\n",
    "ANSWER:\n",
    "\n",
    "\n",
    "\n",
    "\n",
    "\n",
    "\n",
    "---\n",
    "\n",
    "\n"
   ]
  },
  {
   "cell_type": "markdown",
   "metadata": {
    "id": "AozKB-K1oU7H"
   },
   "source": [
    "\n",
    "\n",
    "---\n",
    "\n",
    "\n",
    "[2 points, numerical]\n",
    "\n",
    "3.3.2: Draw qualitatively (by hand or using a computer) a representative solution trajectory in the $(s_1- s_2)$ plane for each of the cases.\n",
    "\n",
    "\n",
    "\n",
    "---\n",
    "\n"
   ]
  },
  {
   "cell_type": "code",
   "execution_count": null,
   "metadata": {
    "id": "eKZXRM_S_FOe"
   },
   "outputs": [],
   "source": [
    "# trajectories in the s1-s2 plane in both cases:\n",
    "#Fill in the blanks to generate A\n",
    "\n",
    "import numpy as np\n",
    "import matplotlib.pyplot as plt\n",
    "import random\n",
    "import cmath\n",
    "\n",
    "# case 1: tau1 > tau2\n",
    "\n",
    "tau1 = 20\n",
    "tau2 = 10\n",
    "A_1 = ##########BLANK############\n",
    "\n",
    "\n",
    "# case 2: tau2 > tau1\n",
    "tau1 = 1\n",
    "tau2 = 2\n",
    "A_2 = ##########BLANK############\n"
   ]
  },
  {
   "cell_type": "code",
   "execution_count": null,
   "metadata": {
    "id": "Si2EXPK5pXmj"
   },
   "outputs": [],
   "source": [
    "#Run this block to generate the plots\n",
    "\n",
    "# Simulation parameters\n",
    "dt = .1\n",
    "T = 1000\n",
    "\n",
    "def simulate(v_1_init, v_2_init, M, T_without_input=0):\n",
    "  \"\"\"Simulate model system.\n",
    "\n",
    "  Args:\n",
    "    v_1_init: Initial firing rate of neuron 1.\n",
    "    v_2_init: Initial firing rate of neuron 2.\n",
    "    T_without_input: Duration to simulate after turning off the input.\n",
    "  \n",
    "  Returns:\n",
    "    V: [num_timesteps, 2] array of firing rates for the neurons\n",
    "  \"\"\"\n",
    "  N = int(T / dt)\n",
    "  N_without_input = int(T_without_input / dt)\n",
    "  V = np.array([[v_1_init, v_2_init]]) * np.ones((N + N_without_input, 2))\n",
    "  for i in range(N + N_without_input - 1):\n",
    "    if i < N:\n",
    "      dVdt = (np.dot(M, V[i]))\n",
    "    else:\n",
    "      dVdt = (np.dot(M, V[i]))\n",
    "    V[i + 1] = dt * dVdt + V[i]\n",
    "  return V\n",
    "\n",
    "\n",
    "def plot_3_3(A, case = '')\n",
    "  print(f'Eigenvalues: {np.linalg.eig(A)[0]}')\n",
    "  plt.figure()\n",
    "  plt.xlabel('s_1', fontsize=14)\n",
    "  plt.ylabel('s_2', fontsize=14);\n",
    "  plt.title (f'State space trajectories {case}', fontsize=14)\n",
    "\n",
    "  # Plot the state space trajectories for a grid of initial points\n",
    "  for v_1_init in np.linspace(0, 100, 3):\n",
    "    for v_2_init in np.linspace(0, 100, 3):\n",
    "      V = simulate(v_1_init, v_2_init, A)\n",
    "      plt.plot(V[:, 0], V[:, 1], 'r--')\n",
    "      plt.plot(V[0, 0], V[0, 1], 'go')\n",
    "      plt.plot(V[-1, 0], V[-1, 1], 'bo')\n",
    "\n",
    "\n",
    "\n",
    "str_title_1 =r\"$\\tau_1 > \\tau_2$: stable\"\n",
    "plot_3_3(A_1, case = str_title_1)\n",
    "\n",
    "str_title_2 =r\"$\\tau_1 < \\tau_2$: spiral stable\"\n",
    "plot_3_3(A_1, case = str_title_2)"
   ]
  },
  {
   "cell_type": "markdown",
   "metadata": {
    "id": "cFUV7Z6MWGZ3"
   },
   "source": [
    "\n",
    "\n",
    "\n",
    "---\n",
    "\n",
    "\n",
    "##3.4\n",
    "\n",
    "[5 points, analytical]\n",
    "\n",
    "\n",
    "For $\\alpha \\ \\gg \\ 1$, what is the condition on $\\tau_1, \\tau_2$ for the system to be stable?\n",
    "\n",
    "\n",
    "\n",
    "---\n",
    "\n",
    "\n",
    "\n",
    "Hint: What must be true about the eigenvalues for the system to be stable?\n",
    "        \n",
    "\n",
    "\n",
    "---\n",
    "\n",
    "\n"
   ]
  },
  {
   "cell_type": "markdown",
   "metadata": {
    "id": "LgHH_cYtWgwj"
   },
   "source": [
    "\n",
    "\n",
    "---\n",
    "\n",
    "\n",
    "ANSWER:\n",
    "\n",
    "\n",
    ".\n",
    "\n",
    "\n",
    "\n",
    "---\n",
    "\n",
    "\n",
    "\n"
   ]
  },
  {
   "cell_type": "code",
   "execution_count": null,
   "metadata": {
    "id": "dkvHZClz6nLo"
   },
   "outputs": [],
   "source": []
  },
  {
   "cell_type": "markdown",
   "metadata": {
    "id": "FZQG1TleWire"
   },
   "source": [
    "\n",
    "\n",
    "---\n",
    "\n",
    "\n",
    "##3.5\n",
    "\n",
    "[5 points, analytical] \n",
    "\n",
    "Now, assume that the synaptic activities have different amplitudes in the rate equation:\n",
    "       \n",
    "$$r\\ =\\ \\alpha_{1} s_{1} \\ - \\ \\alpha_{2} s_{2} ,\\ \\alpha_{1} ,\\alpha_{2} \\  >\\ 0$$\n",
    "    \n",
    "\n",
    "What is the condition on $\\alpha_1$, $\\alpha_2$ in order for the system to have a continuum of fixed points?\n",
    "\n",
    "Write an equation ($s_1$ as a function of $s_2$) describing the continuum of fixed points when the condition you found is realized, and draw it qualitatively.\n",
    "\n",
    "\n",
    "\n",
    "---\n",
    "\n",
    "\n",
    "\n",
    "**Hint:** To have a continuum of fixed points, one of the eigenvalues must be zero which implies that the matrix is singular.\n",
    "\n",
    "\n",
    "\n",
    "---\n",
    "\n"
   ]
  },
  {
   "cell_type": "markdown",
   "metadata": {
    "id": "C7Am8u5GXNWd"
   },
   "source": [
    "ANSWER:\n",
    "\n",
    "\n",
    "\n"
   ]
  },
  {
   "cell_type": "markdown",
   "metadata": {
    "id": "e-M3kV91XPeI"
   },
   "source": [
    "##3.6\n",
    "\n",
    "[5 points, analytical]  \n",
    "\n",
    "\n",
    "If $s_1 = s_2$, find under what  condition for the continuum of fixed points are attractive.\n",
    "\n",
    "Hint: To be attractive, what should be true about the non-zero real parts of the eiganvalues? Since this is a real matrix, what does the trace of the matrix tell us about the eigenvalues?\n",
    "\n"
   ]
  },
  {
   "cell_type": "markdown",
   "metadata": {
    "id": "yqMWgO-AXda9"
   },
   "source": [
    "\n",
    "\n",
    "---\n",
    "\n",
    "\n",
    "ANSWER:\n",
    "\n",
    "\n",
    ".\n",
    "\n",
    "\n",
    "---\n",
    "\n"
   ]
  },
  {
   "cell_type": "markdown",
   "metadata": {
    "id": "ujHPSMfB0n9W"
   },
   "source": [
    "\n",
    "\n",
    "---\n",
    "\n",
    "\n",
    "\n",
    "---\n",
    "\n",
    "\n",
    "\n",
    "---\n",
    "\n",
    "\n",
    "\n",
    "---\n",
    "\n"
   ]
  },
  {
   "cell_type": "markdown",
   "metadata": {
    "id": "8B9pm8TC0u7i"
   },
   "source": [
    "\n",
    "\n",
    "---\n",
    "# Hint for 1.4\n",
    "\n",
    "The following is a problem from 9.40 with solution. It is given here to help you with question 1.4.\n",
    "\n",
    "\n",
    "---\n",
    "\n"
   ]
  },
  {
   "cell_type": "markdown",
   "metadata": {
    "id": "QWHtWEWREWLo"
   },
   "source": [
    "\n",
    "\n",
    "---\n",
    "\n",
    "Obtain the post-synaptic voltage response to a spike train (top graph) by convolving a spike train with the postsynaptic response to a single presynaptic spike. This assumes that postsynaptic potentials superimpose linearly.\n",
    "\n",
    "\n",
    "\n",
    "<center><img src=\"https://drive.google.com/uc?export=view&id=1NC7Fya-2l6NrK6me9G2-i9j0P0lIYrNj\" width=\"400\"></center>\n",
    "\n",
    "\n",
    "\n",
    "The following kernel in units of millivolt gives the post-synaptic voltage response of a cell to single spike:    $K(t) = e^{-t/\\tau}$ where $\\tau=10 \\, msec$.  This cell receives a burst of three presynaptic spikes with a firing rate of $200 \\, Hz$\n",
    "\n",
    "\n",
    "\n",
    "1. Plot the presynaptic spike train and carefully label the inter-spike interval for the 1 spike case, two spikes case, and three spike cases. Make sure you understand why all these three cases are independent. The x-axis scale is in seconds.\n",
    "\n",
    "\n",
    "\n",
    "\n",
    "---\n",
    "\n",
    "The firing rate of spikes is $ f = 200 Hz$. Therefore, every $1/f$ seconds there is one spike. So \t$\\Delta t_s = 1/200Hz = 0.005 sec = 5 msec$ is the interval between spikes.                     \n",
    "\t\n",
    "Assume, amplitude of voltage is $v_s = 1$ in arbitrary units. Then right after\n",
    "first spike V jumps to 1, then to $1e^{-5/10} + 1 = 1.6$ after second spike. After third spike V jupms to $1.6e^{-0.5} + 1 = 1.96$.\n",
    "\t\n",
    "see the solution below using the convolution explicitly.\n",
    "\n",
    "\n",
    "---\n",
    "\n",
    "\n",
    "\n",
    "\n",
    "\n",
    "2. Qualitatively plot the post-synaptic response to this presynaptic spike train.\n",
    "\n",
    "Bottom graph\n",
    "\n",
    "\n",
    "\n",
    "---\n",
    "\n",
    "\n",
    "**A formal solution:**\n",
    "\n",
    "\n",
    "$$K(t) = v_s e^{-t/\\tau}$$\n",
    "\t\n",
    "output signal:\n",
    "$$y(t) = \\int K(t-t') x(t') dt'$$\n",
    "\t\n",
    "train of spikes:\n",
    "$$x(t') = \\sum_s \\delta(t-t_s)$$   \n",
    "\t\n",
    "If firing rate $f$ Hz, then spikes are $T = 1/f$ seconds apart, and the linear response to $n$ spikes is\n",
    "\t\n",
    "$$y(t) = \\sum_n \\int v_s e^{-(t-t')/\\tau} \\delta (t'-n T) dt'$$\n",
    "\t\n",
    "After first spike at $t=0$,\n",
    "\t\n",
    "$$y(t) = \\int v_s e^{-(t-t')/\\tau} \\delta(t') dt' = v_s e^{-t/\\tau}$$\n",
    "\t\n",
    "After second spike:\n",
    "\\begin{align*}\n",
    "y(t)  & = \\int v_s e^{-(t-t')/\\tau} \\left\\{ \\delta(t') + \\delta(t'-T)  \\right\\}\\delta(t') dt' \\\\\n",
    "& = v_s e^{-t/\\tau} + v_s e^{-t/\\tau} e^{T/\\tau}\n",
    "\\end{align*}\n",
    "\t \n",
    "similarly after 3 spikes, we have\n",
    "\\begin{align*}\n",
    "y(t) = v_s e^{-t/\\tau} + v_s e^{-t/tau} e^{T/\\tau} + v_s e^{-t/\\tau} e^{2T?\\tau}.\n",
    "\\end{align*}\n",
    " \n",
    "Therefore after the 3rd spike, the response is:\n",
    "\\begin{align*}\n",
    "y(t=2T)  & = v_s e^{-2T/\\tau} + v_s e^{-2T/tau} e^{T/\\tau} + v_s e^{-2T/\\tau} e^{2T\\tau} \\\\\n",
    "y(2T )   & =  v_s e^{-2T/\\tau} + v_s e^{-T/tau} + V \\\\\n",
    "y(2T)   & = v_s(1 +  e^{-T/\\tau} +  e^{-2T/\\tau})\n",
    "\\end{align*}\n",
    "\n",
    "If you replace $T = 1/200 Hz = 5 msec$  and $\\tau = 10 msec$, you'll get the maximum amplitude of the signal right after the third spike. \n",
    "\n",
    "\n",
    "\t\n",
    "\n",
    "\n",
    "\n",
    "---\n",
    "\n",
    "\n",
    "\n"
   ]
  }
 ],
 "metadata": {
  "colab": {
   "collapsed_sections": [],
   "provenance": [],
   "toc_visible": true
  },
  "kernelspec": {
   "display_name": "Python 3",
   "language": "python",
   "name": "python3"
  },
  "language_info": {
   "codemirror_mode": {
    "name": "ipython",
    "version": 3
   },
   "file_extension": ".py",
   "mimetype": "text/x-python",
   "name": "python",
   "nbconvert_exporter": "python",
   "pygments_lexer": "ipython3",
   "version": "3.8.5"
  }
 },
 "nbformat": 4,
 "nbformat_minor": 1
}
