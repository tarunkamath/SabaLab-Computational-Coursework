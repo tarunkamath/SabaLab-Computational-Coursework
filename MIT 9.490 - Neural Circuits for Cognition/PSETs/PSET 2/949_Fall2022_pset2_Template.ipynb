{
 "cells": [
  {
   "cell_type": "markdown",
   "metadata": {
    "id": "iFmd5pLw7yFK"
   },
   "source": [
    "\n",
    "\n",
    "---\n",
    "\n",
    "\n",
    "#**BCS 9.49 Neural Ciruits**   \n",
    "\n",
    "\n",
    "**PSET2**\n",
    "\n",
    "Due October 11, 11:59PM, 2022 \n",
    "\n",
    "\n",
    "\n",
    "---\n",
    "\n",
    "\n",
    "\n"
   ]
  },
  {
   "cell_type": "markdown",
   "metadata": {
    "id": "NpAsNj8h38KB"
   },
   "source": [
    "\n",
    "\n",
    "---\n",
    "\n",
    "\n",
    "\n",
    "---\n",
    "\n",
    "**NAME:**\n",
    "\n",
    "<br>\n",
    "\n",
    "email:\n",
    "\n",
    "\n",
    "\n",
    "---\n",
    "\n",
    "Please submit **both** the Colab notebook \"Lastname_firsname.ipynb\" **and** a (good) pdf copy on Canvas.\n",
    "\n",
    "\n",
    "<br>\n",
    "\n",
    "(no need to share your Colab)\n",
    "\n",
    "data file: necker_cube_isi_data.npy\n",
    "\n",
    "\n",
    "---\n",
    "\n"
   ]
  },
  {
   "cell_type": "markdown",
   "metadata": {
    "id": "wf0tUr12MUzm"
   },
   "source": [
    "\n",
    "\n",
    "---\n",
    "\n",
    "\n",
    "**Goals:**\n",
    "\n",
    "To conduct stability analysis of a neural system using analytical and numerical methods from dynamical system theory. We will be dealing mostly with bistable systems.\n",
    "\n",
    "\n",
    "\n",
    "---\n",
    "\n",
    "\n",
    "\n",
    "---\n",
    "\n"
   ]
  },
  {
   "cell_type": "code",
   "execution_count": 2,
   "metadata": {},
   "outputs": [
    {
     "name": "stdout",
     "output_type": "stream",
     "text": [
      "Collecting sympy\n",
      "  Downloading sympy-1.11.1-py3-none-any.whl (6.5 MB)\n",
      "\u001b[K     |████████████████████████████████| 6.5 MB 3.3 MB/s eta 0:00:01\n",
      "\u001b[?25hCollecting mpmath>=0.19\n",
      "  Downloading mpmath-1.2.1-py3-none-any.whl (532 kB)\n",
      "\u001b[K     |████████████████████████████████| 532 kB 19.3 MB/s eta 0:00:01\n",
      "\u001b[?25hInstalling collected packages: mpmath, sympy\n",
      "Successfully installed mpmath-1.2.1 sympy-1.11.1\n",
      "\u001b[33mWARNING: You are using pip version 20.1.1; however, version 22.2.2 is available.\n",
      "You should consider upgrading via the '/Library/Frameworks/Python.framework/Versions/3.8/bin/python3 -m pip install --upgrade pip' command.\u001b[0m\n",
      "Note: you may need to restart the kernel to use updated packages.\n"
     ]
    }
   ],
   "source": [
    "pip install sympy"
   ]
  },
  {
   "cell_type": "code",
   "execution_count": 1,
   "metadata": {
    "id": "Bdu8NjSI7vDm"
   },
   "outputs": [],
   "source": [
    "import sympy as sp\n",
    "import numpy as np\n",
    "from matplotlib import pyplot as plt\n",
    "import math\n",
    "\n",
    "sp.init_printing()   # if you choose to use sympy\n",
    "\n",
    "# if you want to use \"display(Math('f_{answer}='+sp.latex(given_expr)))\" to display sympy expressions\n",
    "#from IPython.display import display, Math\n",
    "#sp.init_printing(use_latex=True)"
   ]
  },
  {
   "cell_type": "markdown",
   "metadata": {
    "id": "PRKKQW_FavpU"
   },
   "source": [
    "\n",
    "\n",
    "---\n",
    "\n",
    "\n",
    "\n",
    "---\n",
    "\n"
   ]
  },
  {
   "cell_type": "markdown",
   "metadata": {
    "id": "EHt0yve0BaTq"
   },
   "source": [
    "**Please change the name of this file as directed above!**"
   ]
  },
  {
   "cell_type": "markdown",
   "metadata": {
    "id": "cRMj5D7rFdwj"
   },
   "source": [
    "\n",
    "\n",
    "---\n",
    "\n",
    "\n",
    "\n",
    "---\n",
    "\n",
    "\n",
    "\n",
    "---\n",
    "\n"
   ]
  },
  {
   "cell_type": "markdown",
   "metadata": {
    "id": "cJdEp2uc8QZQ"
   },
   "source": [
    "#PROBLEM 1: [ 40 points] Bistable Switch\n",
    "\n",
    "\n",
    "\n",
    "\n",
    "\n",
    "---\n",
    "\n",
    "\n"
   ]
  },
  {
   "cell_type": "markdown",
   "metadata": {
    "id": "ycdJ355YdUIe"
   },
   "source": [
    "Consider the case of a single neuron with an autapse,\n",
    "with the rate-based equation for its synaptic dynamics $s(t)$ given by\n",
    "\n",
    "$$\\tau \\frac{d s}{dt} = -s + f(s),$$\n",
    "\n",
    "where $\\tau$ is the synaptic time constant (units ms), and the transfer function $f(s)$ is a sigmoid given by \n",
    "\n",
    "$$f(s) = \\frac{1}{1+e^{-w s - b}},$$ \n",
    " \n",
    "$w$ is the strength\n",
    "of the autapse (unitless, since s is dimensionless), and $b$ is the sum of all external inputs to the cell (also dimensionless). For a given model, $\\tau$, $w$ and $b$ are fixed parameters. In the following questions we will explore how the dynamics of the model change when we vary these parameters. \n",
    "\n",
    "\n",
    "\n",
    "---\n",
    "\n"
   ]
  },
  {
   "cell_type": "markdown",
   "metadata": {
    "id": "RbhyMKDL_UZd"
   },
   "source": [
    "##1.1 [6 points] Sigmoid function analysis\n",
    "[(Graphical/visual/conceptual)]\n",
    "\n",
    "\n",
    "\n"
   ]
  },
  {
   "cell_type": "markdown",
   "metadata": {
    "id": "g8a2o_qGexip"
   },
   "source": [
    "\n",
    "\n",
    "---\n",
    "### a.) \n",
    "\n",
    "Plot the curves $y=s$ and $y=f(s)$ as a function of $s$ for various values of the parameters $w$ while holding $b$ constant. \n",
    "\n",
    "\n",
    "\n",
    "\n",
    "For $w$, choose values between 0 and 10. Take $b = -w/2$.\n",
    "\n",
    "\n",
    "<br>\n",
    "\n",
    "\n",
    "From the plot, identify \n",
    "\n",
    "1.   the range of the function $f(s)$, and\n",
    "2.   the (x,y) coordinates where $y=f(s)$ crosses the line ($y=s$)\n",
    "\n",
    " What is the effect of changing $w$? does this make sense with your intuitive understanding of $w$ as the weight of the autapse?\n",
    "\n",
    "---\n",
    "\n",
    "\n"
   ]
  },
  {
   "cell_type": "code",
   "execution_count": 2,
   "metadata": {
    "id": "5TnmohmbBmrV"
   },
   "outputs": [],
   "source": [
    "def sigmoid(s,w,b):\n",
    "  return 1/(1+ np.exp(-w*s-b))"
   ]
  },
  {
   "cell_type": "code",
   "execution_count": 29,
   "metadata": {
    "id": "KE7jeEtTCTaq"
   },
   "outputs": [
    {
     "data": {
      "text/plain": [
       "Text(0, 0.5, 'y')"
      ]
     },
     "execution_count": 29,
     "metadata": {},
     "output_type": "execute_result"
    },
    {
     "data": {
      "image/png": "[encoded data removed]",
      "text/plain": [
       "<Figure size 432x288 with 2 Axes>"
      ]
     },
     "metadata": {
      "needs_background": "light"
     },
     "output_type": "display_data"
    }
   ],
   "source": [
    "# plots for different w\n",
    "\n",
    "w = np.arange(0,11,2)\n",
    "s= np.arange(-2,3.1,.1)\n",
    "b = -w/2\n",
    "y_tot = np.zeros((2,w.shape[0],s.shape[0]))\n",
    "y_tot[0,:,:] = s\n",
    "f, (ax1, ax2) = plt.subplots(2, 1, sharex=True)\n",
    "for k in range(w.shape[0]):\n",
    "    y_tot[1,k,:] = 1/(1+np.exp(-w[k]*s-b[k]))\n",
    "    ax1.plot(s,y_tot[0,k,:])\n",
    "    ax2.plot(s,y_tot[1,k,:])\n",
    "ax2.set_xlabel('s')\n",
    "ax1.set_ylabel('y')\n",
    "ax2.set_ylabel('y')\n",
    "\n",
    "\n",
    "\n"
   ]
  },
  {
   "cell_type": "code",
   "execution_count": 25,
   "metadata": {},
   "outputs": [
    {
     "data": {
      "text/plain": [
       "0"
      ]
     },
     "execution_count": 25,
     "metadata": {},
     "output_type": "execute_result"
    }
   ],
   "source": [
    "w[0]"
   ]
  },
  {
   "cell_type": "markdown",
   "metadata": {
    "id": "iwSPjvEmmFMv"
   },
   "source": [
    "\n",
    "\n",
    "---\n",
    "\n",
    "\n",
    "ANSWER:\n",
    "\n",
    "\n",
    "---\n",
    "\n"
   ]
  },
  {
   "cell_type": "markdown",
   "metadata": {
    "id": "3fo583-YeRIz"
   },
   "source": [
    "\n",
    "\n",
    "---\n",
    "\n",
    "\n",
    "###b.) \n",
    "\n",
    "Describe what happens as $b$ is varied and $w$ is held fixed at 4 ? Does this make sense with your intuitive understanding of b as including the feedforward input?\n",
    "\n",
    "\n",
    "Choose $b$ to be in $(-2,2)$.\n",
    "\n",
    "\n",
    "\n",
    "---\n",
    "\n"
   ]
  },
  {
   "cell_type": "code",
   "execution_count": null,
   "metadata": {
    "id": "C09o5ww8KoHs"
   },
   "outputs": [],
   "source": [
    "# vary b\n",
    "\n",
    "w = 4\n",
    "\n",
    "s= np.arange(-3,3.1,.1)\n",
    "\n",
    "b = np.arange(-2,3,1)\n",
    "\n"
   ]
  },
  {
   "cell_type": "markdown",
   "metadata": {
    "id": "MG7dFYLwrICK"
   },
   "source": [
    "ANSWER:\n",
    "\n"
   ]
  },
  {
   "cell_type": "markdown",
   "metadata": {
    "id": "Q-JaclKGNtPy"
   },
   "source": [
    "\n",
    "\n",
    "---\n",
    "\n",
    "\n",
    "##1.2 [6 points] Stability of the system: the case of $b = -w/2$\n",
    "\n",
    "[analytical]\n",
    "\n",
    "Assuming $b = −w/2$, analytically derive the threshold value $w^*$ above which\n",
    "the system exhibits bistability and below which it does not.\n",
    "\n",
    "Plot both $y=s$ and $y=f(s)$ for $w=6,4,2$.\n",
    "\n",
    "Hint: What will be true about the slope of $y=f(s)$ when the it is tangent to $y=s$ at the crossing point?\n",
    "\n",
    "\n",
    "\n",
    "---\n",
    "\n"
   ]
  },
  {
   "cell_type": "markdown",
   "metadata": {
    "id": "NlKW3R6vOSfr"
   },
   "source": [
    "\n",
    "\n",
    "---\n",
    "\n",
    "\n",
    "ANSWER:\n",
    "\n",
    "\n",
    "\n",
    "\n",
    "\n",
    "---\n",
    "\n",
    "\n"
   ]
  },
  {
   "cell_type": "markdown",
   "metadata": {
    "id": "eHS2ISrj0JuZ"
   },
   "source": [
    "\n",
    "\n",
    "---\n",
    "\n",
    "\n",
    "##1.3 [ 6 points] Bifurcation\n",
    "\n",
    "[visual/graphical]\n",
    "\n",
    "\n",
    "\n",
    "---\n",
    "\n",
    "\n",
    "\n"
   ]
  },
  {
   "cell_type": "markdown",
   "metadata": {
    "id": "sdS7CQAu99G7"
   },
   "source": [
    "\n",
    "\n",
    "---\n",
    "#### a.)\n",
    "\n",
    "For two cases: $w=2< w^*$ and $w=6>w^*$, use graphical stability analysis to reason about the stability of the fixed points evident in your plot from 1.2. (Explain in words how you determined which fixed points are stable or unstable). Produce a new plot for each case plotting $𝑦=𝑠$ and $𝑦=𝑓(𝑠)$ as in 1.1. Add a green marker for the stable\n",
    "fixed points, and a red marker for the unstable ones. There is no need to analytically solve for the coordinates of the fixed point(s), just visually estimate to get the markers in the right place. For example $(0.92, .92)$, $(0.07, 0.07)$ and $(0.5, 0.5)$ for the 3 fixed points when $w=6$.\n",
    "\n",
    "---\n",
    "\n"
   ]
  },
  {
   "cell_type": "markdown",
   "metadata": {
    "id": "GOsLrOTzqRii"
   },
   "source": [
    "\n",
    "\n",
    "---\n",
    "\n",
    "\n",
    "ANSWER:\n",
    "\n",
    "<br>\n",
    "\n",
    "\n",
    "\n",
    "\n",
    "\n",
    "\n",
    "\n",
    "---\n",
    "\n",
    "\n",
    "\n"
   ]
  },
  {
   "cell_type": "code",
   "execution_count": null,
   "metadata": {
    "id": "AiK9n0Uz2Yai"
   },
   "outputs": [],
   "source": [
    "# Your code here\n",
    "#ax.plot(s1, f(s1,w), marker='o', markersize=12, markerfacecolor='green', markeredgecolor=\"black\", label='stable' )\n"
   ]
  },
  {
   "cell_type": "markdown",
   "metadata": {
    "id": "i7lojuIMA2AD"
   },
   "source": [
    "### b.) (conceptual)\n",
    "\n",
    "Edit the legend for the plot below (replace the question marks) to correctly indicate which fixed points are stable and which are unstable.\n",
    "\n",
    " This plot illustrates why the\n",
    "dynamical system is said to undergo a “pitchfork bifurcation” at $w^∗$."
   ]
  },
  {
   "cell_type": "code",
   "execution_count": null,
   "metadata": {
    "colab": {
     "base_uri": "https://localhost:8080/",
     "height": 296
    },
    "id": "40mm1E2DAusJ",
    "outputId": "c53e32ee-1656-4b25-c401-374c8d0a0b38"
   },
   "outputs": [
    {
     "data": {
      "text/plain": [
       "<matplotlib.legend.Legend at 0x7f8d424ef590>"
      ]
     },
     "execution_count": 3,
     "metadata": {},
     "output_type": "execute_result"
    },
    {
     "data": {
      "image/png": "[encoded data removed]",
      "text/plain": [
       "<Figure size 432x288 with 1 Axes>"
      ]
     },
     "metadata": {
      "needs_background": "light"
     },
     "output_type": "display_data"
    }
   ],
   "source": [
    "def f(I):\n",
    "  return np.exp(I)/(1+np.exp(I))\n",
    "\n",
    "ws = np.arange(0, 10, .01)\n",
    "S = np.arange(0, 1, .001)\n",
    "bin2s = []\n",
    "bin2_ws = []\n",
    "bin1_s = []\n",
    "bin1_ws = []\n",
    "for w in ws:\n",
    "  b_0 = -w/2\n",
    "  label_text = 'b = '+str(b_0)\n",
    "  I = w*S + b_0\n",
    "  F = f(I)\n",
    "  #plt.plot(S, F, label= label_text)\n",
    "\n",
    "  diff = S-F\n",
    "  signs = np.sign(diff)\n",
    "  signs[signs==0]=1\n",
    "  zero_crossings = np.where(np.diff(signs))[0] #from https://stackoverflow.com/questions/3843017/efficiently-detect-sign-changes-in-python\n",
    "  intercepts = S[zero_crossings]\n",
    "  #^^^ if the fixed points were analytically solvable we could just use that solution, \n",
    "  #since they are not we have to approximate \n",
    "  #but hopefully this still indicates whow the bifurcation diagram can be found using primarily analytical methods\n",
    "  #and they will see later that their numeric simulations agree\n",
    "  for i, intercept in enumerate(intercepts):\n",
    "    if i%2 == 0:\n",
    "      bin2s.append(intercept)\n",
    "      bin2_ws.append(w)\n",
    "    else:\n",
    "      bin1_s.append(intercept)\n",
    "      bin1_ws.append(w)\n",
    "\n",
    "plt.scatter(bin2_ws, bin2s, label='???')\n",
    "plt.scatter(bin1_ws, bin1_s, label='???')\n",
    "\n",
    "#plt.title('Graphic for 1b')\n",
    "plt.xlabel('w')\n",
    "plt.ylabel('Intercept/fixed point location (s)')\n",
    "plt.legend()\n"
   ]
  },
  {
   "cell_type": "markdown",
   "metadata": {
    "id": "OXblmSWZ0S78"
   },
   "source": [
    "\n",
    "\n",
    "\n",
    "---\n",
    "\n"
   ]
  },
  {
   "cell_type": "markdown",
   "metadata": {
    "id": "pHDNHoAa-iMI"
   },
   "source": [
    "\n",
    "\n",
    "---\n",
    "\n",
    "##1.4 [6 points] Numerical Simulation\n",
    "\n",
    "[numerical]\n",
    "\n",
    "\n",
    "---\n",
    "\n"
   ]
  },
  {
   "cell_type": "markdown",
   "metadata": {
    "id": "tI9j8nxf1rSm"
   },
   "source": [
    "\n",
    "\n",
    "---\n",
    "\n",
    "\n",
    "###a.) \n",
    "\n",
    "Numerically simulate the dynamics of the autapse, and use this simulation to verify your analytical results on the value of $w^∗$. Specifically, sweep $w$ across an interval containing $w^*$, \n",
    " and in a single figure, plot $s$ as a function of $t$ for each $w$ with at least four properly chosen initial points $s_0$. Color trajectories with $w<=4$ green and trajectories with $w>4$ red.\n",
    "\n",
    "\n",
    "Are there any initial conditions do not arrive at a fixed point and grow without bound? Are there any trajectories that remain at an unstable fixed point? \n",
    "\n",
    "<br>\n",
    "\n",
    "\n",
    "Hint: you can use odeint() from scipy.integrate. You may prefer this to looping through all the timesteps yourself. \n",
    "\n",
    "---\n",
    "\n"
   ]
  },
  {
   "cell_type": "markdown",
   "metadata": {
    "id": "mfO8ofzITvQQ"
   },
   "source": [
    "\n",
    "\n",
    "---\n",
    "\n",
    "\n",
    "ANSWER:\n",
    "\n",
    "---\n",
    "\n"
   ]
  },
  {
   "cell_type": "code",
   "execution_count": null,
   "metadata": {
    "id": "QmaEaaFRDAwC"
   },
   "outputs": [],
   "source": [
    "time = np.linspace(0,40,num=1000)\n",
    "W = range(1,10)\n",
    "S0 =[0, 0.2, 0.4, 0.45, 0.49, 0.5, 0.51, 0.55, 0.6, 0.8, 1]\n",
    "\n",
    "Color =['red','green']\n",
    "\n",
    "\n",
    "### your code here\n",
    "  #ax.plot(time,sout, ls='-',color=Color[int(w<4)], label='_', alpha = 0.4)\n",
    "\n",
    "#red_patch = mpatches.Patch(color='green', label='w <= 4', alpha = 0.4)\n",
    "#green_patch = mpatches.Patch(color='red', label='w > 4', alpha = 0.4)\n",
    "#fig.legend(handles=[red_patch, green_patch])"
   ]
  },
  {
   "cell_type": "markdown",
   "metadata": {
    "id": "eQZJyvZ_ftJD"
   },
   "source": [
    "\n",
    "\n",
    "---\n",
    "\n",
    "\n",
    "###b.) **(visual/graphical)**\n",
    "\n",
    " From the above numerical simulation above, plot the bifurcation diagram, i.e., $s$ versus $w$. (You are recreating the pitchfork plot in 1.3.2 but with your numerical results. It will be sparser than 1.3.2, but feel free to reuse that plotting code. \n",
    "\n",
    "\n",
    "---\n",
    "\n"
   ]
  },
  {
   "cell_type": "markdown",
   "metadata": {
    "id": "RjA4dvMgAZFi"
   },
   "source": [
    "\n",
    "\n",
    "---\n",
    "\n",
    "ANSWER:\n",
    "\n",
    "<br>\n",
    "\n",
    "\n",
    "---\n",
    "\n"
   ]
  },
  {
   "cell_type": "markdown",
   "metadata": {
    "id": "yuqc3yHY2e3R"
   },
   "source": [
    "\n",
    "\n",
    "---\n",
    "\n",
    "\n",
    "##1.5 [ 6 points] Hysteresis: Numerical analysis\n",
    "\n",
    "[numerical/graphical]\n",
    "\n",
    "If the bistable switch is initialized\n",
    "at one of its stable fixed points, it takes a fairly strong drive to push it out of\n",
    "its basin of attraction to the other stable state. In fact, the state of the system\n",
    "as a function of the input b depends both on the instantaneous value of b and\n",
    "on the history of the system, i.e.,  which state it was initialized in. \n",
    "\n",
    "The goal of this question is to test this assertion.\n",
    "\n",
    "-------------------------\n",
    "\n",
    "\n",
    "\n",
    "\n",
    "\n"
   ]
  },
  {
   "cell_type": "markdown",
   "metadata": {
    "id": "blr1C0cFkbo5"
   },
   "source": [
    "###a.)  \n",
    "\n",
    "Set $w = 6$, and place the system in the lower steady state with $ b = -w$. Then increase $b$ in steps of size $0.05 w$ until $b$ becomes zero. During each step, solve for $s(t)$ until it reaches its steady state $s_b$. Finally, plot $s_b$ (y axis) versus $b$ (x axis).\n",
    "\n",
    "\n",
    "\n",
    "---\n",
    "\n"
   ]
  },
  {
   "cell_type": "markdown",
   "metadata": {
    "id": "MTJSoVfHAeea"
   },
   "source": [
    "\n",
    "\n",
    "---\n",
    "\n",
    "ANSWER:\n",
    "\n",
    "\n",
    "---\n",
    "\n"
   ]
  },
  {
   "cell_type": "code",
   "execution_count": null,
   "metadata": {
    "id": "EV77bSjWkfD5"
   },
   "outputs": [],
   "source": [
    "w = 6\n",
    "b = np.linspace(-w, 0, 20)\n",
    "\n",
    "s0 = 0\n"
   ]
  },
  {
   "cell_type": "markdown",
   "metadata": {
    "id": "jFx7NwtykE0T"
   },
   "source": [
    "\n",
    "\n",
    "\n",
    "\n",
    "---\n",
    "\n",
    "\n",
    "\n",
    "\n",
    "### b.) \n",
    "\n",
    "Redo the calculation, but now initialize the system at the upper steady state with\n",
    "$b = 0$. Add the resulting plot to the figure in a.\n",
    "\n",
    "\n",
    "\n",
    "---\n",
    "\n",
    "\n",
    " "
   ]
  },
  {
   "cell_type": "markdown",
   "metadata": {
    "id": "QVYPmDSXAvZf"
   },
   "source": [
    "\n",
    "\n",
    "---\n",
    "\n",
    "ANSWER:\n",
    "\n",
    "\n",
    "\n",
    "---\n",
    "\n"
   ]
  },
  {
   "cell_type": "code",
   "execution_count": null,
   "metadata": {
    "id": "2EZqriElkf4D"
   },
   "outputs": [],
   "source": [
    "w = 6\n",
    "b = np.linspace(0, -w, 20)\n",
    "\n",
    "s0 = 1\n"
   ]
  },
  {
   "cell_type": "markdown",
   "metadata": {
    "id": "aVV8IV7hrgVJ"
   },
   "source": [
    "\n",
    "\n",
    "---\n",
    "\n",
    "\n",
    "### c.)\n",
    "\n",
    "You should see that the upper steady state remains\n",
    "stable down to a lower value of b when starting in the upper state, relative to\n",
    "the substantially larger value of b required to move the lower steady state to the\n",
    "upper one.\n",
    "\n",
    "\n",
    "Give your interpretation of what is happening given that the parameter $b$ was varied from $-w$ to zero  and back to $-w$.\n",
    "\n",
    "---\n",
    "\n"
   ]
  },
  {
   "cell_type": "markdown",
   "metadata": {
    "id": "uM1P_R1oA0vt"
   },
   "source": [
    "\n",
    "\n",
    "---\n",
    "ANSWER:\n",
    "\n",
    "\n",
    "\n",
    "\n",
    "---\n",
    "\n"
   ]
  },
  {
   "cell_type": "markdown",
   "metadata": {
    "id": "tsilbsr_3F9W"
   },
   "source": [
    "\n",
    "\n",
    "---\n",
    "\n",
    "\n",
    "##1.6 [ 5 points] Hysteresis (derivation)\n",
    "\n",
    "[analytical]\n",
    "\n",
    "Assume some fixed value of $w > w∗$, $b = b_0 = -w$, and an initialization in the lower steady state $s_1$. Derive **approximately** what\n",
    "increment $\\delta b$ must be added to $b_0$ to drive the switch from the lower steady state $s_1$\n",
    "to the upper one $s_2$. Note that a switch will happen when the lower steady state is\n",
    "no longer a stable fixed point of the system. Calculate the jump in $s$ at this point.\n",
    "\n",
    "\n",
    "Verify numerically that your derived answer is approximately correct.\n",
    "\n",
    "\n",
    "---\n",
    "\n"
   ]
  },
  {
   "cell_type": "markdown",
   "metadata": {
    "id": "UP840oVioCFB"
   },
   "source": [
    "\n",
    "\n",
    "---\n",
    "\n",
    "\n",
    "ANSWER:\n",
    "\n",
    "\n",
    "\n",
    "\n",
    "\n",
    "---\n",
    "\n",
    "\n",
    "\n",
    "\n"
   ]
  },
  {
   "cell_type": "markdown",
   "metadata": {
    "id": "4NCvDYL6u_hL"
   },
   "source": [
    "Check the result numerically:"
   ]
  },
  {
   "cell_type": "code",
   "execution_count": null,
   "metadata": {
    "id": "pnsr31v4vNgM"
   },
   "outputs": [],
   "source": []
  },
  {
   "cell_type": "markdown",
   "metadata": {
    "id": "P93FdCyNDA-K"
   },
   "source": [
    "\n",
    "\n",
    "---\n",
    "\n",
    "##1.7 [ 5 points]  Linear Stability Analysis around  the fixed points\n",
    "\n",
    "[analytical]\n",
    "\n",
    "In this case, a linear stability analysis is not possible to fully carry out. Instead, we will confine our anaysis to $w$ close to bifurcation point $w=4$. Therefore, it is enough to approximate the Sigmoid function with a 3rd order polynomial around the fixed point $s_c = \\frac{1}{2}$.\n",
    "\n",
    "a.) Use the following approximation\n",
    "\n",
    "$$\n",
    "\\frac{1}{1 + e^{-x}} \\approx  0.5 + \\frac{1}{4} x - \\frac{1}{48} x^3 \n",
    "$$\n",
    "\n",
    "to study analyically the fixed points of the system for $b = -w/2$. Use linear stability analysis to determine the stability of the fixed points on both sides of the bifurcation point. \n",
    "\n",
    "b.) Compare your results with those found above. Plot the nullclines and their derivatives for $w = 3.9$ and $w = 4.1$"
   ]
  },
  {
   "cell_type": "markdown",
   "metadata": {
    "id": "sFGBKT7aPKWy"
   },
   "source": [
    "\n",
    "\n",
    "---\n",
    "\n",
    "\n",
    "\n",
    "---\n",
    "\n",
    "\n",
    "\n",
    "---\n",
    "# Problem 2: [ 35 points] Linear Neural Integrator\n",
    "\n",
    "\n",
    "\n",
    "---\n",
    "\n",
    "\n"
   ]
  },
  {
   "cell_type": "markdown",
   "metadata": {
    "id": "AufdTgy7PVDs"
   },
   "source": [
    "\n",
    "\n",
    "---\n",
    "\n",
    "\n",
    "Consider a linear network with two mutually\n",
    "inhibitory neurons, with synaptic dynamics given by\n",
    "\n",
    "$$\n",
    "\\tau \\frac{ds}{dt} = - s + W s + b \\tag{2}\n",
    "$$\n",
    "\n",
    "where $s(t)$ is a 2-dimensional activity vector at time t, $b$ is a 2-dimensional vector of the the external inputs to each cell (both unitless again), $\\tau$ is a time constant which is the same for both neurons (units ms), and (mutually inhibitory)\n",
    "weights\n",
    "\n",
    "$$\n",
    "W= \\begin{bmatrix} \n",
    "0   & - w \\\\\n",
    "-w   &  0\n",
    "\\tag{3}\n",
    "\\end{bmatrix}\n",
    "$$\n",
    "where $w > 0$.\n",
    "\n",
    "\n",
    "---\n",
    "\n"
   ]
  },
  {
   "cell_type": "markdown",
   "metadata": {
    "id": "IMMd6s8ZRKtj"
   },
   "source": [
    "\n",
    "\n",
    "---\n",
    "\n",
    "\n",
    "## 2.1 \n",
    "\n",
    "[5 points, analytical] \n",
    "\n",
    "Derive the eigenvalues of the weight matrix W.\n",
    "\n",
    "\n",
    "\n",
    "---\n",
    "\n"
   ]
  },
  {
   "cell_type": "markdown",
   "metadata": {
    "id": "e58FJVSqRtCE"
   },
   "source": [
    "\n",
    "\n",
    "---\n",
    "ANSWER:\n",
    "\n",
    "\n",
    "\n",
    "---\n",
    "\n",
    "\n"
   ]
  },
  {
   "cell_type": "markdown",
   "metadata": {
    "id": "7gfkZoMxRPNe"
   },
   "source": [
    "\n",
    "\n",
    "---\n",
    "\n",
    "\n",
    "## 2.2 \n",
    "\n",
    "(5 points, analytical) \n",
    "\n",
    "What are the possible fixed points of the system, as a function of $w$ and $b$?\n"
   ]
  },
  {
   "cell_type": "markdown",
   "metadata": {
    "id": "_cJkv_vwhjL0"
   },
   "source": [
    "\n",
    "\n",
    "---\n",
    "ANSWER:\n",
    "\n",
    "\n",
    "\n",
    "---\n",
    "\n",
    "\n"
   ]
  },
  {
   "cell_type": "markdown",
   "metadata": {
    "id": "CrrQh5dSRUHn"
   },
   "source": [
    "\n",
    "\n",
    "---\n",
    "\n",
    "\n",
    "## 2.3 [ 5 points] stability\n",
    "\n",
    "(analytical) \n",
    "\n",
    "What is the condition on $w$ for the system to be stable?\n",
    "\n",
    "\n",
    "\n",
    "---\n",
    "\n",
    "\n"
   ]
  },
  {
   "cell_type": "markdown",
   "metadata": {
    "id": "ZyWoqzmNHL5Q"
   },
   "source": [
    "\n",
    "\n",
    "---\n",
    "\n",
    " ANSWER:\n",
    "\n",
    "\n",
    "---\n",
    "\n"
   ]
  },
  {
   "cell_type": "markdown",
   "metadata": {
    "id": "kZEFI3mNK4cE"
   },
   "source": [
    "\n",
    "\n",
    "---\n",
    "\n",
    "\n",
    "\n",
    "---\n",
    "\n"
   ]
  },
  {
   "cell_type": "markdown",
   "metadata": {
    "id": "vryD0bBMRVVQ"
   },
   "source": [
    "\n",
    "\n",
    "---\n",
    "\n",
    "\n",
    "## 2.4 [5 points] eigenmodes\n",
    " (analytical) \n",
    " \n",
    " \n",
    " Find the eigenvectors of $W$. Note that it is a symmetric\n",
    "matrix, and thus the eigenvectors form an orthogonal basis set. Check that this is the case.\n",
    "\n",
    "\n",
    "\n",
    "---\n",
    "\n",
    "\n"
   ]
  },
  {
   "cell_type": "markdown",
   "metadata": {
    "id": "jVzx7zhXMUS9"
   },
   "source": [
    "\n",
    "\n",
    "---\n",
    "\n",
    "ANSWER:\n",
    "\n",
    "\n",
    "\n",
    "\n",
    "\n",
    "\n",
    "\n",
    "---\n",
    "\n"
   ]
  },
  {
   "cell_type": "markdown",
   "metadata": {
    "id": "5GkjAwgiRzV-"
   },
   "source": [
    "\n",
    "\n",
    "\n",
    "---\n",
    "\n",
    "\n",
    "## 2.5  [5 points] change of basis\n",
    "\n",
    "(analytical) \n",
    "\n",
    "Using the set of eigenvectors as a new basis set, rewrite the dynamics equation, Eq.(2), in this new basis $B = \\{ v_w, v_{-w} \\}$.\n",
    "\n",
    "Note: In the new basis, the dynamics becomes decoupled and the new components of the vector $s$ are called the eigenmodes of the system.\n",
    "\n",
    "---\n",
    "\n"
   ]
  },
  {
   "cell_type": "markdown",
   "metadata": {
    "id": "a6jvLT2QytZX"
   },
   "source": [
    "\n",
    "\n",
    "---\n",
    "ANSWER:\n",
    "\n",
    "\n",
    "\n",
    "\n",
    "---\n",
    "\n"
   ]
  },
  {
   "cell_type": "markdown",
   "metadata": {
    "id": "hH7dpVwyR6aG"
   },
   "source": [
    "\n",
    "\n",
    "---\n",
    "\n",
    "\n",
    "## 2.6 [5 points] Eigenmode time constants\n",
    "\n",
    "(analytical) \n",
    "\n",
    "When $W$ is tuned so the system exhibits a continuum of fixed points,\n",
    "What is the time-constant for dynamics along that direction? What\n",
    "is the time-constant for dynamics along the orthogonal direction?\n",
    "\n",
    "\n",
    "\n",
    "---\n",
    "\n"
   ]
  },
  {
   "cell_type": "markdown",
   "metadata": {
    "id": "Ilxsj2cameU0"
   },
   "source": [
    "\n",
    "\n",
    "---\n",
    "\n",
    "ANSWER:\n",
    "\n",
    "\n",
    "\n",
    "\n",
    "---\n",
    "\n"
   ]
  },
  {
   "cell_type": "markdown",
   "metadata": {
    "id": "MDoCeo3DR_rB"
   },
   "source": [
    "\n",
    "---\n",
    "## 2.7 [ 5 points] simulations\n",
    "\n",
    "(numerical) \n",
    "\n",
    "Numerically simulate this system, using $w = 1, s_0 = 0, dt = 0.2 \\,ms, \\tau =\n",
    "50 \\, ms$, and total time $T = 1000 \\, ms$. \n",
    "\n",
    "<br>\n",
    "\n",
    "\n",
    "Run this simulation three times, each with\n",
    "four instantaneous input pulses at $200, 400, 600, 800 \\, ms$. \n",
    "\n",
    "\n",
    "\n",
    "\n",
    "\n",
    "\n",
    "*   simulation 1: make\n",
    "the 4 pulses parallel to the integrating mode, with magnitudes $2, -1, -1, 1$, respectively.\n",
    "*   simulation 2: repeat simulation 1 with pulses orthogonal to the integrating mode\n",
    "*   simulation 3: sample four pulses with random directions \n",
    "\n",
    "<br>\n",
    "\n",
    "For each of these simulations:\n",
    "\n",
    "1.   plot synaptic activation as a function of time\n",
    "2.   plot firing rates as a function of time\n",
    "\n",
    "\n",
    " You should see that the system is an integrator for differential inputs, and\n",
    "that components of the input (perturbations) perpendicular to the integrating\n",
    "mode quickly decay away. The system is robust/resistant to noise perpendicular\n",
    "to the integrator.\n",
    "\n",
    "\n",
    "---\n",
    "\n"
   ]
  },
  {
   "cell_type": "markdown",
   "metadata": {
    "id": "7A3WvRBYyx7T"
   },
   "source": [
    "\n",
    "\n",
    "---\n",
    "ANSWER:\n",
    "\n",
    "\n",
    "\n",
    "---\n",
    "\n"
   ]
  },
  {
   "cell_type": "code",
   "execution_count": null,
   "metadata": {
    "id": "2JlO0RHmyfW2"
   },
   "outputs": [],
   "source": [
    "import numpy as np\n",
    "import matplotlib.pyplot as plt\n",
    "\n",
    "\n",
    "w = 1\n",
    "s0 = np.zeros((2,1))  # initial state col.vector\n",
    "dt = 0.2   # ms\n",
    "tau = 50   # ms\n",
    "T = 1000   # ms\n",
    "\n",
    "W = ###????####  # weight matrix\n",
    "\n",
    "N = int(T/dt)    # number of steps\n",
    "\n",
    "# pulse inputs\n",
    "v1 = np.array([[1],[-1]])/np.sqrt(2)   # \n",
    "v2 = np.array([[1],[1]])/np.sqrt(2)   # integrating mode\n",
    "v_rand = np.random.randn(2,1)\n",
    "v_rand = v_rand/np.linalg.norm(v_rand)\n",
    "\n",
    "time = dt*np.arange(0,N)\n",
    "b_mag = np.zeros(N)\n",
    "#b_mag[(time<200) | ((time < 600) & (time > 400)) |(time>800)] = 1\n",
    "b_mag[int(200/dt)] = 2\n",
    "b_mag[int(400/dt)] = -1\n",
    "b_mag[int(600/dt)] = -1\n",
    "b_mag[int(800/dt)] = 1\n",
    "\n",
    "b_intg = v2*b_mag\n",
    "b_perp = v1*b_mag\n",
    "b_rand = v_rand*b_mag"
   ]
  },
  {
   "cell_type": "code",
   "execution_count": null,
   "metadata": {
    "id": "c5vlJTR79OVJ"
   },
   "outputs": [],
   "source": [
    "def solve_s(s, b, tau, T, dt):\n",
    "  ###????####\n",
    "  return s\n",
    "\n",
    "def firing_rate(s, b):\n",
    "  return  1000*(W@s + b)/tau    # Hz"
   ]
  },
  {
   "cell_type": "code",
   "execution_count": null,
   "metadata": {
    "id": "yjuxgFYN9Ouv"
   },
   "outputs": [],
   "source": [
    "title_str =['integrating case','perpendicular case', 'random direction case']\n",
    "for sim in range(3):\n",
    "  if  sim ==0:\n",
    "    b = b_intg\n",
    "  elif sim ==1:\n",
    "    b = b_perp\n",
    "  else:\n",
    "    b = b_rand\n",
    "  \n",
    "  s = np.zeros((2,N))\n",
    "  s = solve_s(s, b, tau, T, dt)\n",
    "  f = firing_rate(s, b)\n",
    "\n",
    "  fig, ax = plt.subplots(2,2, figsize=(5,8))\n",
    "  ax[0,0].plot(time,s[0,:])\n",
    "  ax[0,1].plot(time,f[0,:])\n",
    "  ax[0,0].set_title('synaptic activation')\n",
    "  ax[0,1].set_title('firing rate')\n",
    "\n",
    "  ax[1,0].plot(time,s[1,:])\n",
    "  ax[1,1].plot(time,f[1,:])\n",
    "\n",
    "  plt.suptitle(title_str[sim], y=1.02)\n",
    "  plt.tight_layout()"
   ]
  },
  {
   "cell_type": "markdown",
   "metadata": {
    "id": "gr-ffpuNShnC"
   },
   "source": [
    "\n",
    "\n",
    "---\n",
    "\n",
    "\n",
    "\n",
    "---\n",
    "\n",
    "\n",
    "\n",
    "---\n",
    "\n",
    "# PROBLEM 3: [25 points] Switching Dynamics During Perceptual Bistability. \n",
    "\n",
    "\n",
    "Consider this image of a cube, called a \"Necker Cube\":\n",
    "\n",
    "\n",
    "\n"
   ]
  },
  {
   "cell_type": "markdown",
   "metadata": {
    "id": "BKxvAPL6ypwY"
   },
   "source": [
    "<center>\n",
    "<img src=\"https://drive.google.com/uc?export=view&id=1l-Gg5GaR2QPRVAWWg1LZWKrDxaz7Ut40\" width='400'>\n",
    "</center>"
   ]
  },
  {
   "cell_type": "markdown",
   "metadata": {
    "id": "fjwXXaWT0ZO5"
   },
   "source": [
    "Enlarge the image so it takes up a sizeable portion of your screen, and stare at the bottom leftmost corner of the\n",
    "cube for 30 seconds. It should look like the cube switches orientation periodically. \n",
    "\n",
    "\n",
    "This phenomenon is an example of what's called \"perceptual bistability\", the perception of a static stimulus switching between two modes. Many stimuli elicit perceptual\n",
    "bistability, including in non-visual domains!\n",
    "\n",
    "\n",
    "In this problem, you will explore switching dynamics during perceptual bistability,\n",
    "using a 2-neuron model. Consider a pair of neurons in a circuit with synaptic dynamics given by:\n",
    "\n",
    "$$\n",
    "\\tau \\frac{d s}{d t} = -s + f(W s - g a + b(1 +n))\n",
    "$$\n",
    "\n",
    "\n",
    "where $W$ is a $2\\times 2$ matrix of synaptic weights, $s$ is the time-varying synaptic activation\n",
    "variable, $\\tau$ is the synaptic time-constant, and $b$ is the strength of the feedforward input.\n",
    "Let the $f-I$ (transfer) function be the sigmoid $f(x) = e^x/(1 + e^x)$.\n",
    "The $2\\times 1$ variable $a$, used to model neural adaptation, is a running average of recent\n",
    "activity in each neuron:\n",
    "\n",
    "$$\n",
    "\\tau_a \\frac{d a}{d t} = - a(t) + r\n",
    "$$\n",
    "\n",
    "where $r = f(W s - g a + b(1 +n))$ is the $2\\times 1$ vector of firing rates of the neurons\n",
    "and $\\tau_a  >> \\tau$ is a slow adaptation time-constant (i.e., slower than $\\tau$ ). This adaptation\n",
    "variable feeds back into the synaptic dynamics equation in the form of a negative\n",
    "feedback: The more a neuron fires, the more adapted it becomes ($a_i$ increases), and\n",
    "the greater the negative drive to the neuron. The strength of adaptation is controlled\n",
    "by the parameter $g$.\n",
    "The term $n(t)$ reflects internal circuit noise, with independent components $n_1, n_2$,\n",
    "which we will assume are simply linearly low-pass filtered versions of random Gaussian\n",
    "noise:\n",
    "\n",
    "$$\n",
    "\\tau_n \\frac{d n}{d t} = - n(t) + \\sigma \\sqrt{\\frac{2}{\\tau_n}} \\mathcal{N} (0,1)\n",
    "$$\n",
    "\n",
    "\n",
    "where $\\tau_n << \\tau$ and $\\mathcal{N}(0,1)$ is a $2\\times 1$ vector \n",
    "of independent zero-mean Gaussian\n",
    "random variables with unit variance. Let the two neurons symmetrically inhibit each\n",
    "other, so that\n",
    "\n",
    "$$\n",
    "W = \\begin{bmatrix}\n",
    "0 & - w \\\\\n",
    "-w & 0\n",
    "\\end{bmatrix}.\n",
    "$$\n",
    "\n",
    "\n",
    "We will use these dynamics to model the psychophysical phenomenon of perceptual\n",
    "bistability, to investigate potential mechanisms of perceptual switching.\n",
    "\n"
   ]
  },
  {
   "cell_type": "markdown",
   "metadata": {
    "id": "cyZul8N4RtCK"
   },
   "source": [
    "\n",
    "\n",
    "---\n",
    "\n",
    "## 3.1 [ 5 points] Simulation without noise\n",
    "\n",
    "[numerical]\n",
    "\n",
    "\n",
    "Implement a simulation of this model.\n",
    "Use parameters $w = 5, b = 2, g = 1$, and time constants $\\tau = 50 \\,ms$, $\\tau_n = 10 \\, ms$, $\\tau_a = 500 \\, ms$. Set the perceptual noise to zero, i.e. $\\sigma = 0$. Simulate the\n",
    "model's dynamics for $10$ seconds (10,000ms) with $dt = 0.2ms$ and initial values\n",
    "$s(0) = [0.4, 0.5]$, $a(0) = n(0) = [0, 0]$. Make a plot of the two neurons' synaptic\n",
    "activations $s$ over time.\n",
    "\n",
    "---\n",
    "\n"
   ]
  },
  {
   "cell_type": "markdown",
   "metadata": {
    "id": "jP8vZWGkSTz5"
   },
   "source": [
    "\n",
    "\n",
    "---\n",
    "ANSWER:\n",
    "\n",
    "<br>\n",
    "\n",
    "\n",
    "\n",
    "\n",
    "\n",
    "---\n",
    "\n"
   ]
  },
  {
   "cell_type": "code",
   "execution_count": null,
   "metadata": {
    "id": "VJv7KRd8Qyfq"
   },
   "outputs": [],
   "source": [
    "import numpy as np\n",
    "import matplotlib.pyplot as plt"
   ]
  },
  {
   "cell_type": "code",
   "execution_count": null,
   "metadata": {
    "id": "Du67k46CQKBW"
   },
   "outputs": [],
   "source": [
    "def f(x):\n",
    "  return np.exp(x)/(1 + np.exp(x))"
   ]
  },
  {
   "cell_type": "code",
   "execution_count": null,
   "metadata": {
    "id": "sE-yDTBh1zEl"
   },
   "outputs": [],
   "source": [
    "w = 5\n",
    "b = 2\n",
    "g = 1\n",
    "tau = 50          # ms\n",
    "tau_n = 10        # ms\n",
    "tau_a = 500       # ms\n",
    "sigma = 0\n",
    "\n",
    "W = np.array([[0, -w], [-w, 0]])\n",
    "\n",
    "Time = 10000    # ms\n",
    "dt = 0.2   # ms\n",
    "N = int(Time/dt)\n",
    "\n",
    "\n"
   ]
  },
  {
   "cell_type": "code",
   "execution_count": null,
   "metadata": {
    "id": "-QGq7_eD94BU"
   },
   "outputs": [],
   "source": [
    "def simulate_necker(b,g,sigma,s,a,n,dt,T, tau_a):\n",
    "    ###?????####\n",
    "  return s, a, n"
   ]
  },
  {
   "cell_type": "code",
   "execution_count": null,
   "metadata": {
    "id": "xdKQ_8s7965b"
   },
   "outputs": [],
   "source": [
    "# plot system dynamics\n",
    "\n",
    "s, a, n = simulate_necker(b, g, sigma, s, a ,n,dt,Time, tau_a)\n",
    "t_intv = np.arange(0, Time, dt)\n",
    "fig, ax = plt.subplots()\n",
    "ax.plot(t_intv, s.T);\n",
    "ax.set_xlabel('time (ms)')\n",
    "ax.set_ylabel('s(t)')\n",
    "ax.set_title('synaptic activation s(t)');"
   ]
  },
  {
   "cell_type": "markdown",
   "metadata": {
    "id": "2W0wtmPdSXgU"
   },
   "source": [
    "\n",
    "\n",
    "---\n",
    "\n",
    "## 3.2 [ 5 points] Effects of Adaptation\n",
    "\n",
    "[numerical]\n",
    "\n",
    " 1. Vary the adaptation strength $g$ from $0.5$\n",
    "to $2$ in increments of $0.3$. For each such value of $g$, simulate the network for $10$\n",
    "seconds (still with $\\sigma = 0$) and compute the switch rate in Hz. Plot the switch\n",
    "rate as a function of $g$. Briefly, in 1 or 2 sentences justify why you expect this effect given the equations of the system.\n",
    "\n",
    "\n",
    "\n",
    "\n",
    "---\n",
    "\n"
   ]
  },
  {
   "cell_type": "markdown",
   "metadata": {
    "id": "K2fgSUiNfdJg"
   },
   "source": [
    "\n",
    "\n",
    "---\n",
    "ANSWER:\n",
    "\n",
    "<br>\n",
    "\n",
    "\n",
    "\n",
    "---\n",
    "\n"
   ]
  },
  {
   "cell_type": "code",
   "execution_count": null,
   "metadata": {
    "id": "z6zksXWT-Var"
   },
   "outputs": [],
   "source": [
    "# vary g\n",
    "G = np.arange(0.5,2.1,0.3)\n",
    "\n",
    "Time = 10000    # 10 seconds\n",
    "N = int(Time/dt)\n",
    "t_intv = np.arange(0, Time, dt)\n",
    "FREQ = []\n",
    "\n",
    "\n",
    "def freq_switch(x, dt, T):\n",
    "###????####\n",
    "  return 1000*freq     # Hz"
   ]
  },
  {
   "cell_type": "markdown",
   "metadata": {
    "id": "CU-nS5lvJtuh"
   },
   "source": [
    "\n",
    "\n",
    "---\n",
    "ANSWER:\n",
    "\n",
    "\n",
    "\n",
    "\n",
    "---\n",
    "\n"
   ]
  },
  {
   "cell_type": "markdown",
   "metadata": {
    "id": "CPlZWa55ifWG"
   },
   "source": [
    "\n",
    "\n",
    "---\n",
    "\n",
    "2. Now, fix $g = 1$ and vary the timescale of adaptation $\\tau_a$ from $500 ms$ to $2500 ms$ in\n",
    "increments of $500 ms$. Plot the switch rate as a function of $\\tau_a$. Briefly, in 1 or 2\n",
    "sentences justify why you expect this effect given the equations of the system.\n",
    "\n",
    "---\n",
    "\n"
   ]
  },
  {
   "cell_type": "code",
   "execution_count": null,
   "metadata": {
    "id": "9fyZ4OXeiis-"
   },
   "outputs": [],
   "source": [
    "# g = 1, vary tau_a\n",
    "Tau_a = np.arange(500,2501,500)\n",
    "g = 1\n",
    "FREQ=[]\n",
    "\n"
   ]
  },
  {
   "cell_type": "code",
   "execution_count": null,
   "metadata": {
    "id": "9F0NKzZE--w8"
   },
   "outputs": [],
   "source": [
    "fig, ax =plt.subplots()\n",
    "ax.plot(###????###, ###????#### )\n",
    "ax.set_xlabel('tau_a')\n",
    "ax.set_ylabel('frequency (Hz)')\n",
    "ax.set_title('Switching rate')"
   ]
  },
  {
   "cell_type": "markdown",
   "metadata": {
    "id": "rH6qS9TqJ99Q"
   },
   "source": [
    "\n",
    "\n",
    "---\n",
    "ANSWER:\n",
    "\n",
    "<br>\n",
    "\n",
    "\n",
    "---\n",
    "\n"
   ]
  },
  {
   "cell_type": "markdown",
   "metadata": {
    "id": "An9p53YYSi4D"
   },
   "source": [
    "\n",
    "\n",
    "---\n",
    "\n",
    "\n",
    "## 3.3 [ 5 points] Adding Noise\n",
    "\n",
    "[numerical]\n",
    "\n",
    "\n",
    "Add noise by setting $\\sigma = 2$, simulate for $100 seconds$,\n",
    "and plot a histogram of the inter-switch intervals (ISIs) in that simulation. When\n",
    "computing the ISIs, please ignore ISIs less than $200ms$ (these very short ISIs are\n",
    "caused by high-frequency noise and should be filtered out for fitting perceptual\n",
    "data).\n",
    "\n",
    "\n",
    "---\n",
    "\n"
   ]
  },
  {
   "cell_type": "markdown",
   "metadata": {
    "id": "Vu3A4fPWSr3B"
   },
   "source": [
    "\n",
    "\n",
    "---\n",
    "ANSWER:\n",
    "\n",
    "\n",
    "\n",
    "\n",
    "---\n",
    "\n"
   ]
  },
  {
   "cell_type": "code",
   "execution_count": null,
   "metadata": {
    "id": "QsTUzYf8-o8W"
   },
   "outputs": [],
   "source": [
    "w = 5\n",
    "b = 2\n",
    "g = 1\n",
    "tau = 50          # ms\n",
    "tau_n = 10        # ms\n",
    "tau_a = 500       # ms\n",
    "sigma = 2    # noise\n",
    "\n",
    "\n",
    "def ISI(x, dt, T):\n",
    "###????###\n",
    "  return deltaT\n",
    "\n",
    "\n",
    "#Run simulations"
   ]
  },
  {
   "cell_type": "code",
   "execution_count": null,
   "metadata": {
    "id": "1cxB5B14-2oT"
   },
   "outputs": [],
   "source": [
    "fig, ax =plt.subplots()\n",
    "ax.hist(###????###)\n",
    "ax.set_xlabel('ISI (ms)')\n",
    "ax.set_ylabel('count')\n",
    "ax.set_title('Inter-switch interval distribution')"
   ]
  },
  {
   "cell_type": "markdown",
   "metadata": {
    "id": "w5KYNSskSuZ6"
   },
   "source": [
    "\n",
    "\n",
    "---\n",
    "##3.4 [ 5 points] Fitting Real Data\n",
    "\n",
    "[numerical/graphical]\n",
    "\n",
    "Load the provided necker cube ISI dataset:\n",
    "\n",
    "\n",
    "Download the \n",
    "file **necker_cube_isi_data.npy** from\n",
    "the assignment page on canvas.\n",
    "\n",
    "Upload this data into your Colab session by clicking on the File symbol on\n",
    "the left-side toolbar, then the upload symbol. Now you can load the data by\n",
    "running \n",
    "$$\n",
    "np.load('necker\\_cube\\_isi\\_data.npy') \n",
    "$$\n",
    "in a code cell.\n",
    "\n",
    "\n",
    "The dataset you loaded is a vector of self-reported inter-switch intervals from\n",
    "a human subject looking at the Necker cube stimulus, in units of ms. \n",
    "\n",
    "\n",
    "1. Plot a\n",
    "histogram of the inter-switch intervals from this dataset.\n",
    "\n",
    "\n",
    "\n",
    "\n",
    "---\n",
    "\n"
   ]
  },
  {
   "cell_type": "markdown",
   "metadata": {
    "id": "RrsI3LfTTMRT"
   },
   "source": [
    "\n",
    "\n",
    "---\n",
    "\n",
    "ANSWER:\n",
    "\n",
    "\n",
    "\n",
    "---\n",
    "\n"
   ]
  },
  {
   "cell_type": "code",
   "execution_count": null,
   "metadata": {
    "id": "dhdc8WjnC5Ja"
   },
   "outputs": [],
   "source": [
    "necker_data = np.load('/content/drive/MyDrive/Colab Notebooks/.../necker_cube_isi_data.npy')   # change the path to yours!!\n"
   ]
  },
  {
   "cell_type": "markdown",
   "metadata": {
    "id": "Ad-_pMzy_ygt"
   },
   "source": [
    "\n",
    "\n",
    "---\n",
    "\n",
    "2. Now, given your experience with the model, adjust the model parameters manually to try to find a parameter set that produces a similar ISI distribution. Plot\n",
    "the ISI histogram from your now-fitted model. Please don't spend a long time\n",
    "on this-your fit does not have to be perfect, just better than the values in\n",
    "your simulation in part (3).\n",
    "\n",
    "---\n",
    "\n"
   ]
  },
  {
   "cell_type": "markdown",
   "metadata": {
    "id": "r52mmOfLC5lq"
   },
   "source": [
    "\n",
    "\n",
    "---\n",
    "\n",
    "ANSWER:\n",
    "\n",
    "---\n",
    "\n"
   ]
  },
  {
   "cell_type": "markdown",
   "metadata": {
    "id": "qXO9GYxZTOi4"
   },
   "source": [
    "\n",
    "\n",
    "---\n",
    "\n",
    "## 3.5 [ 5 points] Cross-ISI Correlations\n",
    "\n",
    "[numerical]\n",
    "\n",
    "\n",
    "In part 4, you should get a reasonably\n",
    "good fit to the ISI distribution (don't worry if you didn't!). However, the ISI histogram does not capture\n",
    "higher order statistical relationships between ISIs in the data (for example, dependance of the ISI on the previous ISI).\n",
    "\n",
    "<br>\n",
    "\n",
    "\n",
    "---\n",
    "\n"
   ]
  },
  {
   "cell_type": "markdown",
   "metadata": {
    "id": "OXlZciPxHo60"
   },
   "source": [
    "\n",
    "\n",
    "---\n",
    "\n",
    "1. Make a scatterplot of consecutive ISIs (your x-axis is ISI $i$ and  your y-axis is ISI $i + 1$ for each $i$).\n",
    "Compute the $r^2$ correlation of this plot. \n",
    "\n",
    "---\n",
    "\n"
   ]
  },
  {
   "cell_type": "markdown",
   "metadata": {
    "id": "YWH5u9uDC9uU"
   },
   "source": [
    "\n",
    "\n",
    "---\n",
    "ANSWER:\n",
    "\n",
    "\n",
    "\n",
    "---\n",
    "\n",
    "\n"
   ]
  },
  {
   "cell_type": "markdown",
   "metadata": {
    "id": "Qj22OsTxIL4I"
   },
   "source": [
    "hint: you may use scipy.stats.spearmanr\n",
    "\n",
    "Spearman's correlation coefficient = covariance(rank(X), rank(Y)) / (stdv(rank(X)) * stdv(rank(Y)))"
   ]
  },
  {
   "cell_type": "code",
   "execution_count": null,
   "metadata": {
    "id": "qAjx8gXYFyDS"
   },
   "outputs": [],
   "source": [
    "# r2 calculation\n",
    "from scipy.stats import spearmanr\n"
   ]
  },
  {
   "cell_type": "markdown",
   "metadata": {
    "id": "2PuZgWUHF_nu"
   },
   "source": [
    "\n",
    "\n",
    "---\n",
    "\n",
    "\n",
    "2. Now, make the analogous scatterplot\n",
    "and $r^2$ computation for your model from part (4). You should see a significant\n",
    "difference.\n",
    "\n",
    "\n",
    "\n",
    "---\n",
    "\n",
    "\n"
   ]
  },
  {
   "cell_type": "markdown",
   "metadata": {
    "id": "t2O6tf-sDWHa"
   },
   "source": [
    "\n",
    "\n",
    "---\n",
    "\n",
    "ANSWER:\n",
    "\n",
    "\n",
    "---\n",
    "\n"
   ]
  },
  {
   "cell_type": "markdown",
   "metadata": {
    "id": "T3IgPts4GMkv"
   },
   "source": [
    "\n",
    "\n",
    "---\n",
    "\n",
    "3. Lastly, try to come up with an explanation for the discrepancy and an idea for\n",
    "how to adjust the model to better capture the cross-ISI correlation in the human\n",
    "data. You don't have to implement and test your idea, just describe it in a few\n",
    "sentences and/or equations.\n",
    "\n",
    "---\n",
    "\n"
   ]
  },
  {
   "cell_type": "markdown",
   "metadata": {
    "id": "eOqhxHDfJBKd"
   },
   "source": [
    "\n",
    "\n",
    "---\n",
    "\n",
    "ANSWER:\n",
    "\n",
    "<br>\n",
    "\n",
    "\n",
    "\n",
    "\n",
    "---\n",
    "\n"
   ]
  }
 ],
 "metadata": {
  "colab": {
   "collapsed_sections": [],
   "provenance": [],
   "toc_visible": true
  },
  "kernelspec": {
   "display_name": "Python 3",
   "language": "python",
   "name": "python3"
  },
  "language_info": {
   "codemirror_mode": {
    "name": "ipython",
    "version": 3
   },
   "file_extension": ".py",
   "mimetype": "text/x-python",
   "name": "python",
   "nbconvert_exporter": "python",
   "pygments_lexer": "ipython3",
   "version": "3.8.5"
  }
 },
 "nbformat": 4,
 "nbformat_minor": 1
}
